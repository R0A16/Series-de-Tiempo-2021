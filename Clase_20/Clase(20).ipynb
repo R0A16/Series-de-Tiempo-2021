{
    "cells": [
        {
            "cell_type": "markdown",
            "metadata": {},
            "source": [
                "\n",
                "### Dependencies and Setup\n"
            ]
        },
        {
            "cell_type": "code",
            "execution_count": null,
            "metadata": {},
            "outputs": [],
            "source": [
                "knitr::opts_chunk$set(echo = TRUE)\n",
                "\n",
                "#install.packages(\"zoo\")\n",
                "#install.packages(\"xts\")\n",
                "#install.packages(\"ARDL\")\n",
                "# \n",
                "library(zoo) \n",
                "library(xts) \n",
                "library(ARDL)\n"
            ]
        },
        {
            "cell_type": "markdown",
            "metadata": {},
            "source": [
                "# DESCRIPCIÓN DEL PROBLEMA\n",
                "\n",
                "Supongamos que queremos modelar el logaritmo de dinero (M2) como una función de LRY (logarithm of real income), IBO (bond rate) e IDE (bank deposit rate). \n",
                "\n",
                "* El problema es que la aplicación de una regresión de MCO en datos no estacionarios daría lugar a una regresión espúria. \n",
                "\n",
                "* Los parámetros estimados serían consistentes solo si las series estuvieran cointegradas.\n",
                " \n",
                "\n",
                "# Importamos Datos desde un dataset de R:\n",
                "\n",
                "A data frame with 55 rows and 5 variables. Time period from 1974:Q1 until 1987:Q3.\n",
                "\n",
                "LRM: logarithm of real money, M2\n",
                "\n",
                "LRY: logarithm of real income\n",
                "\n",
                "LPY: logarithm of price deflator\n",
                "\n",
                "IBO: bond rate\n",
                "\n",
                "IDE: bank deposit rate\n"
            ]
        },
        {
            "cell_type": "code",
            "execution_count": null,
            "metadata": {},
            "outputs": [],
            "source": [
                "data(denmark)\n",
                "#?denmark # see for more information\n",
                "names(denmark)\n"
            ]
        },
        {
            "cell_type": "markdown",
            "metadata": {},
            "source": [
                "# Procedimiento:\n",
                "\n",
                "## 1. Calculamos un auto ADRL para determinar la combinación óptima de rezagos.\n"
            ]
        },
        {
            "cell_type": "code",
            "execution_count": null,
            "metadata": {},
            "outputs": [],
            "source": [
                "models <- auto_ardl(LRM ~ LRY + IBO + IDE, data = denmark, max_order = 5)\n",
                "\n",
                "names(models)\n"
            ]
        },
        {
            "cell_type": "markdown",
            "metadata": {},
            "source": "\n"
        },
        {
            "cell_type": "code",
            "execution_count": null,
            "metadata": {},
            "outputs": [],
            "source": [
                "models$top_orders\n",
                "\n"
            ]
        },
        {
            "cell_type": "markdown",
            "metadata": {},
            "source": "\n"
        },
        {
            "cell_type": "code",
            "execution_count": null,
            "metadata": {},
            "outputs": [],
            "source": [
                "models$best_order\n",
                "\n"
            ]
        },
        {
            "cell_type": "markdown",
            "metadata": {},
            "source": "\n"
        },
        {
            "cell_type": "code",
            "execution_count": null,
            "metadata": {},
            "outputs": [],
            "source": [
                "models$best_model\n",
                "\n"
            ]
        },
        {
            "cell_type": "markdown",
            "metadata": {},
            "source": "\n"
        },
        {
            "cell_type": "code",
            "execution_count": null,
            "metadata": {},
            "outputs": [],
            "source": [
                "BestMod <- models$best_model\n",
                "\n",
                "summary(BestMod)\n"
            ]
        },
        {
            "cell_type": "markdown",
            "metadata": {},
            "source": [
                "\n",
                "## 2. UECM (Unrestricted Error Correction Model) of the underlying ARDL.\n"
            ]
        },
        {
            "cell_type": "code",
            "execution_count": null,
            "metadata": {},
            "outputs": [],
            "source": [
                "UECM_BestMod <- uecm(BestMod)\n",
                "\n",
                "summary(UECM_BestMod)\n"
            ]
        },
        {
            "cell_type": "markdown",
            "metadata": {},
            "source": [
                "## 3. RECM (Restricted Error Correction Model) of the underlying ARDL\n",
                "Obs: allowing the constant to join the short-run relationship (case 2), instead of the long-run (case 3)\n"
            ]
        },
        {
            "cell_type": "code",
            "execution_count": null,
            "metadata": {},
            "outputs": [],
            "source": [
                "RECM_BestMod <- recm(UECM_BestMod, case = 2)\n",
                "\n",
                "summary(RECM_BestMod)\n"
            ]
        },
        {
            "cell_type": "markdown",
            "metadata": {},
            "source": [
                "## 4. long-run levels relationship (cointegration) \n",
                "\n"
            ]
        },
        {
            "cell_type": "code",
            "execution_count": null,
            "metadata": {},
            "outputs": [],
            "source": [
                "bounds_f_test(BestMod, case = 2)\n",
                "\n"
            ]
        },
        {
            "cell_type": "markdown",
            "metadata": {},
            "source": [
                "## 5. Long-run multipliers (with standard errors, t-statistics and p-values)\n",
                "\n"
            ]
        },
        {
            "cell_type": "code",
            "execution_count": null,
            "metadata": {},
            "outputs": [],
            "source": [
                "multipliers(BestMod)\n",
                "\n"
            ]
        },
        {
            "cell_type": "markdown",
            "metadata": {},
            "source": "\n"
        },
        {
            "cell_type": "code",
            "execution_count": null,
            "metadata": {},
            "outputs": [],
            "source": [
                "Result <- coint_eq(BestMod, case = 2)\n",
                "\n"
            ]
        },
        {
            "cell_type": "markdown",
            "metadata": {},
            "source": [
                "# Make the plot\n",
                "\n"
            ]
        },
        {
            "cell_type": "code",
            "execution_count": null,
            "metadata": {},
            "outputs": [],
            "source": [
                "Datos <- cbind.zoo(LRM = denmark[,\"LRM\"], Result)\n",
                "\n",
                "Datos <- xts(Datos)\n",
                "\n",
                "plot(Datos, legend.loc = \"right\")\n"
            ]
        },
        {
            "cell_type": "markdown",
            "metadata": {},
            "source": "#\n"
        }
    ],
    "metadata": {
        "anaconda-cloud": "",
        "kernelspec": {
            "display_name": "R",
            "langauge": "R",
            "name": "ir"
        },
        "language_info": {
            "codemirror_mode": "r",
            "file_extension": ".r",
            "mimetype": "text/x-r-source",
            "name": "R",
            "pygments_lexer": "r",
            "version": "3.4.1"
        }
    },
    "nbformat": 4,
    "nbformat_minor": 1
}
