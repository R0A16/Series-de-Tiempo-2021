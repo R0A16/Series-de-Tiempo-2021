{
    "cells": [
        {
            "cell_type": "markdown",
            "metadata": {},
            "source": [
                "\n",
                "### Dependencies and Setup\n"
            ]
        },
        {
            "cell_type": "code",
            "execution_count": null,
            "metadata": {},
            "outputs": [],
            "source": [
                "knitr::opts_chunk$set(echo = TRUE)\n",
                "\n",
                "#install.packages(\"panelvar\")\n",
                "#\n",
                "library(panelvar)\n"
            ]
        },
        {
            "cell_type": "markdown",
            "metadata": {},
            "source": [
                "# Ejemplo 1: Download data\n",
                "\n",
                "We used the dynamic panel literature by Arellano and Bond (1991), Blundell and Bond (1998) and Roodman (2009b). \n",
                "This data set describes employment, wages, capital and output of 140 firms in the United Kingdom from 1976 to 1984. \n",
                "We estimate: Employment is explained by past values of employment (\"l\" lags), current and first lag of wages and output and current value of capital. \n"
            ]
        },
        {
            "cell_type": "code",
            "execution_count": null,
            "metadata": {},
            "outputs": [],
            "source": [
                "data(\"abdata\")\n",
                "\n",
                "names(abdata)\n"
            ]
        },
        {
            "cell_type": "markdown",
            "metadata": {},
            "source": [
                "## Estimación\n",
                "\n"
            ]
        },
        {
            "cell_type": "code",
            "execution_count": null,
            "metadata": {},
            "outputs": [],
            "source": [
                "#?pvargmm\n",
                "\n",
                "Arellano_Bond_1991_table4b <- pvargmm( dependent_vars = c(\"n\"),\n",
                "                                       lags = 2, \n",
                "                                       exog_vars = c(\"w\", \"wL1\", \"k\", \"ys\", \"ysL1\", \"yr1979\", \"yr1980\", \"yr1981\", \"yr1982\",\n",
                "                                                      \"yr1983\", \"yr1984\"),\n",
                "                                       transformation = \"fd\", data = abdata,  panel_identifier = c(\"id\", \"year\"),\n",
                "                                       steps = c(\"twostep\"),\n",
                "                                       system_instruments = FALSE,\n",
                "                                       max_instr_dependent_vars = 99,\n",
                "                                       min_instr_dependent_vars = 2L,\n",
                "                                       collapse = FALSE)\n"
            ]
        },
        {
            "cell_type": "markdown",
            "metadata": {},
            "source": "\n"
        },
        {
            "cell_type": "code",
            "execution_count": null,
            "metadata": {},
            "outputs": [],
            "source": [
                "summary(Arellano_Bond_1991_table4b)\n",
                "\n"
            ]
        },
        {
            "cell_type": "markdown",
            "metadata": {},
            "source": [
                "# Ejemplo 2\n",
                "\n",
                "We used the panel data set consists of 265 Swedish municipalities and  covers 9 years (1979-1987). \n",
                "These variables include total expenditures (expenditures), total own-source revenues (revenues) and intergovernmental grants received by the municipality (grants). \n",
                "Source: Dahlberg and Johansson (2000) \n",
                "\n",
                "Grants from the central to the local government are of three kinds: support to municipalities with small tax capacity, grants toward the running of certain local government activities and grants toward certain investments.\n"
            ]
        },
        {
            "cell_type": "code",
            "execution_count": null,
            "metadata": {},
            "outputs": [],
            "source": [
                "data(\"Dahlberg\")\n",
                "\n",
                "names(Dahlberg)\n"
            ]
        },
        {
            "cell_type": "markdown",
            "metadata": {},
            "source": [
                "# Estimación\n",
                "\n"
            ]
        },
        {
            "cell_type": "code",
            "execution_count": null,
            "metadata": {},
            "outputs": [],
            "source": [
                "ex1_dahlberg_data <- pvargmm(dependent_vars = c(\"expenditures\", \"revenues\", \"grants\"),\n",
                "          lags = 1,\n",
                "          transformation = \"fod\",\n",
                "          data = Dahlberg,\n",
                "          panel_identifier=c(\"id\", \"year\"),\n",
                "          steps = c(\"twostep\"),\n",
                "          system_instruments = FALSE,\n",
                "          max_instr_dependent_vars = 99,\n",
                "          max_instr_predet_vars = 99,\n",
                "          min_instr_dependent_vars = 2L,\n",
                "          min_instr_predet_vars = 1L,\n",
                "          collapse = FALSE\n",
                "  )\n"
            ]
        },
        {
            "cell_type": "markdown",
            "metadata": {},
            "source": "\n"
        },
        {
            "cell_type": "code",
            "execution_count": null,
            "metadata": {},
            "outputs": [],
            "source": [
                "summary(ex1_dahlberg_data)\n",
                "\n"
            ]
        },
        {
            "cell_type": "markdown",
            "metadata": {},
            "source": [
                "## model selection procedure of Andrews and Lu (2001) to select the optimal lag length for our example\n",
                "\n"
            ]
        },
        {
            "cell_type": "code",
            "execution_count": null,
            "metadata": {},
            "outputs": [],
            "source": [
                "Andrews_Lu_MMSC(ex1_dahlberg_data)\n",
                "\n"
            ]
        },
        {
            "cell_type": "markdown",
            "metadata": {},
            "source": "\n"
        },
        {
            "cell_type": "code",
            "execution_count": null,
            "metadata": {},
            "outputs": [],
            "source": [
                "ex2_dahlberg_data <- pvargmm(dependent_vars = c(\"expenditures\", \"revenues\", \"grants\"),\n",
                "                             lags = 2,\n",
                "                             transformation = \"fod\",\n",
                "                             data = Dahlberg,\n",
                "                             panel_identifier=c(\"id\", \"year\"),\n",
                "                             steps = c(\"twostep\"),\n",
                "                             system_instruments = FALSE,\n",
                "                             max_instr_dependent_vars = 99,\n",
                "                             max_instr_predet_vars = 99,\n",
                "                             min_instr_dependent_vars = 2L,\n",
                "                             min_instr_predet_vars = 1L,\n",
                "                             collapse = FALSE)\n"
            ]
        },
        {
            "cell_type": "markdown",
            "metadata": {},
            "source": "\n"
        },
        {
            "cell_type": "code",
            "execution_count": null,
            "metadata": {},
            "outputs": [],
            "source": [
                "Andrews_Lu_MMSC(ex2_dahlberg_data)\n",
                "\n"
            ]
        },
        {
            "cell_type": "markdown",
            "metadata": {},
            "source": [
                "# stability of the autoregressive process:\n",
                "\n"
            ]
        },
        {
            "cell_type": "code",
            "execution_count": null,
            "metadata": {},
            "outputs": [],
            "source": [
                "stab_ex1_dahlberg_data <- stability(ex1_dahlberg_data)\n",
                "\n",
                "print(stab_ex1_dahlberg_data)\n",
                "\n",
                "plot(stab_ex1_dahlberg_data)\n"
            ]
        },
        {
            "cell_type": "markdown",
            "metadata": {},
            "source": [
                "# generate impulse response functions.\n",
                "\n"
            ]
        },
        {
            "cell_type": "code",
            "execution_count": null,
            "metadata": {},
            "outputs": [],
            "source": [
                "ex1_dahlberg_data_oirf <-  oirf(ex1_dahlberg_data, n.ahead = 8)\n",
                "\n",
                "ex1_dahlberg_data_girf <-  girf(ex1_dahlberg_data, n.ahead = 8, ma_approx_steps= 8)\n",
                "\n",
                "ex1_dahlberg_data_bs <-  bootstrap_irf(ex1_dahlberg_data, typeof_irf = c(\"GIRF\"),\n",
                "                                       n.ahead = 8,\n",
                "                                       nof_Nstar_draws = 500,\n",
                "                                       confidence.band = 0.95)\n",
                "\n",
                "plot(ex1_dahlberg_data_girf, ex1_dahlberg_data_bs)\n"
            ]
        }
    ],
    "metadata": {
        "anaconda-cloud": "",
        "kernelspec": {
            "display_name": "R",
            "langauge": "R",
            "name": "ir"
        },
        "language_info": {
            "codemirror_mode": "r",
            "file_extension": ".r",
            "mimetype": "text/x-r-source",
            "name": "R",
            "pygments_lexer": "r",
            "version": "3.4.1"
        }
    },
    "nbformat": 4,
    "nbformat_minor": 1
}
