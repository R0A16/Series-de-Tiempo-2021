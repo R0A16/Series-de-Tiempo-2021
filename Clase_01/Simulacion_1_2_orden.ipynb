{
    "cells": [
        {
            "cell_type": "markdown",
            "metadata": {},
            "source": "\n"
        },
        {
            "cell_type": "code",
            "execution_count": null,
            "metadata": {},
            "outputs": [],
            "source": [
                "knitr::opts_chunk$set(echo = TRUE)\n",
                "\n",
                "#install.packages(\"ggplot2\")\n",
                "#install.packages(\"readxl\")\n",
                "#install.packages(\"dplyr\")\n",
                "#\n",
                "library(ggplot2)\n",
                "library(readxl)\n",
                "library(dplyr)\n"
            ]
        },
        {
            "cell_type": "markdown",
            "metadata": {},
            "source": [
                "\n",
                "\n"
            ]
        },
        {
            "cell_type": "code",
            "execution_count": null,
            "metadata": {},
            "outputs": [],
            "source": [
                "getwd()\n",
                "\n",
                "#setwd(\"ruta en su computadora\")\n",
                "\n",
                "getwd()\n"
            ]
        },
        {
            "cell_type": "markdown",
            "metadata": {},
            "source": "\n"
        },
        {
            "cell_type": "code",
            "execution_count": null,
            "metadata": {},
            "outputs": [],
            "source": [
                "Diff_Eq <- data.frame(Tiempo = c(0:100))\n",
                "\n",
                "# El proceso 1:\n",
                "Diff_Eq$Process_1 <- 2*(1 - 0.9^Diff_Eq$Tiempo)/(1 - 0.9) + (0.9^Diff_Eq$Tiempo)*10 \n",
                "# El proceso 2:\n",
                "Diff_Eq$Process_2 <- 2*(1 - (-0.5)^Diff_Eq$Tiempo)/(1 + 0.5) + ((-0.5)^Diff_Eq$Tiempo)*10 \n"
            ]
        },
        {
            "cell_type": "markdown",
            "metadata": {},
            "source": "\n"
        },
        {
            "cell_type": "code",
            "execution_count": null,
            "metadata": {},
            "outputs": [],
            "source": [
                "ggplot(data = Diff_Eq, \n",
                "       aes(x = Tiempo, y = Process_1)) + \n",
                "  geom_line(size = 0.5, color = \"darkblue\") +\n",
                "  geom_point(size = 1.0, color = \"darkblue\") + \n",
                "  #theme_bw() + \n",
                "  theme(legend.position = \"none\") +\n",
                "  theme(legend.title = element_blank()) +\n",
                "  guides(col = guide_legend(nrow = 1, byrow = TRUE)) + \n",
                "  xlab(\"Tiempo\") + \n",
                "  ylab(\"Zt\") + \n",
                "  theme(plot.title = element_text(size = 11, face = \"bold\", hjust = 0)) + \n",
                "  theme(plot.subtitle = element_text(size = 10, hjust = 0)) + \n",
                "  theme(plot.caption = element_text(hjust = 0)) +\n",
                "  theme(plot.margin = unit(c(1,1,1,1), \"cm\")) \n",
                "\n",
                "#ggsave(\"G1_PROC_01.png\", width = 20, height = 10, units = \"cm\")\n"
            ]
        },
        {
            "cell_type": "markdown",
            "metadata": {},
            "source": "\n"
        },
        {
            "cell_type": "code",
            "execution_count": null,
            "metadata": {},
            "outputs": [],
            "source": [
                "ggplot(data = Diff_Eq, \n",
                "       aes(x = Tiempo, y = Process_2)) + \n",
                "  geom_line(size = 0.5, color = \"red\") +\n",
                "  geom_point(size = 1.0, color = \"red\") + \n",
                "  #theme_bw() + \n",
                "  theme(legend.position = \"none\") +\n",
                "  theme(legend.title = element_blank()) +\n",
                "  guides(col = guide_legend(nrow = 1, byrow = TRUE)) + \n",
                "  xlab(\"Tiempo\") + \n",
                "  ylab(\"Zt\") + \n",
                "  theme(plot.title = element_text(size = 11, face = \"bold\", hjust = 0)) + \n",
                "  theme(plot.subtitle = element_text(size = 10, hjust = 0)) + \n",
                "  theme(plot.caption = element_text(hjust = 0)) +\n",
                "  theme(plot.margin = unit(c(1,1,1,1), \"cm\")) \n",
                "#\n",
                "#ggsave(\"G1_PROC_02.png\", width = 20, height = 10, units = \"cm\")\n"
            ]
        },
        {
            "cell_type": "markdown",
            "metadata": {},
            "source": "\n"
        },
        {
            "cell_type": "code",
            "execution_count": null,
            "metadata": {},
            "outputs": [],
            "source": [
                "Diff_Eq$Process_3 <- 10 - 450*(0.4)^Diff_Eq$Tiempo + 440*(0.5)^Diff_Eq$Tiempo \n",
                "\n",
                "# GRAFICA 3\n",
                "ggplot(data = Diff_Eq, \n",
                "       aes(x = Tiempo, y = Process_3)) + \n",
                "  geom_line(size = 0.5, color = \"darkgreen\") +\n",
                "  geom_point(size = 1.0, color = \"darkgreen\") + \n",
                "  #theme_bw() + \n",
                "  theme(legend.position = \"none\") +\n",
                "  theme(legend.title = element_blank()) +\n",
                "  guides(col = guide_legend(nrow = 1, byrow = TRUE)) + \n",
                "  xlab(\"Tiempo\") + \n",
                "  ylab(\"Zt\") + \n",
                "  theme(plot.title = element_text(size = 11, face = \"bold\", hjust = 0)) + \n",
                "  theme(plot.subtitle = element_text(size = 10, hjust = 0)) + \n",
                "  theme(plot.caption = element_text(hjust = 0)) +\n",
                "  theme(plot.margin = unit(c(1,1,1,1), \"cm\")) \n",
                "#\n",
                "#ggsave(\"G1_PROC_03.png\", width = 20, height = 10, units = \"cm\")\n"
            ]
        }
    ],
    "metadata": {
        "anaconda-cloud": "",
        "kernelspec": {
            "display_name": "R",
            "langauge": "R",
            "name": "ir"
        },
        "language_info": {
            "codemirror_mode": "r",
            "file_extension": ".r",
            "mimetype": "text/x-r-source",
            "name": "R",
            "pygments_lexer": "r",
            "version": "3.4.1"
        }
    },
    "nbformat": 4,
    "nbformat_minor": 1
}
