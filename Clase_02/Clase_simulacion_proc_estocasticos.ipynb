{
    "cells": [
        {
            "cell_type": "markdown",
            "metadata": {},
            "source": [
                "\n",
                "### Dependencies and Setup\n"
            ]
        },
        {
            "cell_type": "code",
            "execution_count": null,
            "metadata": {},
            "outputs": [],
            "source": [
                "knitr::opts_chunk$set(echo = TRUE)\n",
                "\n",
                "#install.packages(\"ggplot2\")\n",
                "#install.packages(\"dplyr\")\n",
                "#\n",
                "library(ggplot2)\n",
                "library(dplyr)\n"
            ]
        },
        {
            "cell_type": "markdown",
            "metadata": {},
            "source": [
                "\n",
                "\n"
            ]
        },
        {
            "cell_type": "code",
            "execution_count": null,
            "metadata": {},
            "outputs": [],
            "source": [
                "#setwd(\"/Users/benjaminolivavazquez/Documents/Personal/Cursos_UNAM/SERIES_2021-I/Series-de-Tiempo-Fall2020/Clase_2\")\n",
                "\n",
                "getwd()\n"
            ]
        },
        {
            "cell_type": "markdown",
            "metadata": {},
            "source": [
                "# Trateremos de ilustrar/graficar el siguiente proceso\n",
                "\n",
                "Supongamos un proceso estocastico U_t, el cual es puramente aleatorio, en los siguientes\n",
                "terminos:\n",
                "  \n",
                "  i)   $\\mathbb{E}[U_t] = \\mu = 0$ \n",
                "\n",
                "  ii)  $Var[U_t] = \\mathbb{E}[(U_t - \\mu)^2] = \\mathbb{E}[(U_t)^2] = \\sigma^2$\n",
                "\n",
                "  iii)  $Cov[U_t,U_s] = \\mathbb{E}[(U_t - \\mu)(U_s - \\mu)] = \\mathbb{E}[U_t U_s] = 0, \\text{ para todo } t \\text{ distinto de } s$\n",
                "  \n",
                "# A. Utilizaremos una funcion de numeros aleatorios: \n"
            ]
        },
        {
            "cell_type": "code",
            "execution_count": null,
            "metadata": {},
            "outputs": [],
            "source": [
                "#-> rnorm\n",
                "\n",
                "args(rnorm)\n",
                "\n",
                "# Supongamos E[U_t] = 0 y Var[U_t] = 4\n",
                "\n",
                "rnorm(10, mean = 0, sd = 2)\n"
            ]
        },
        {
            "cell_type": "markdown",
            "metadata": {},
            "source": [
                "# Importante (para Simulaciones que sean replicables):\n",
                "\n"
            ]
        },
        {
            "cell_type": "code",
            "execution_count": null,
            "metadata": {},
            "outputs": [],
            "source": [
                "set.seed(10101) # Es una constate (la semilla) que fija la serie de numeros aleatorios\n",
                "\n",
                "Z_t <- rnorm(1000, mean = 0, sd = 2)\n",
                "\n",
                "mean(Z_t)\n",
                "\n",
                "sd(Z_t)\n",
                "\n",
                "hist(Z_t, \n",
                "     main = \"Histograma del proceso Z_t, Normal(0, 2)\", \n",
                "     xlab = \"Z_t\", \n",
                "     ylab = \"Frecuencia\")\n"
            ]
        },
        {
            "cell_type": "markdown",
            "metadata": {},
            "source": [
                "# ¿Cómo guardar la gráfica?\n",
                "\n"
            ]
        },
        {
            "cell_type": "code",
            "execution_count": null,
            "metadata": {},
            "outputs": [],
            "source": [
                "png(\"G_Z_t.jpg\",  width = 900)\n",
                "\n",
                "hist(Z_t, \n",
                "     main = \"Histograma del proceso Z_t, Normal(0, 2)\", \n",
                "     xlab = \"Z_t\", \n",
                "     ylab = \"Frecuencia\")\n",
                "\n",
                "dev.off()\n"
            ]
        },
        {
            "cell_type": "markdown",
            "metadata": {},
            "source": [
                "# B. Generamos una función que hace un proceso de cualquier dimensión, para el caso del lanzamiento de una moneda y un proceso estocástico del tipo X_t = X_t-1 + U_t\n",
                "Una Función tiene una estructura:\n",
                "\n",
                "function( lista de argumentos -- pede ser vacio )\n",
                "   {\n",
                "   Cálculos, procedimientos, etc.\n",
                "   return( objeto de resultados ) -- puede ser opcional\n",
                "   }\n",
                "\n",
                "La siguiente funcion necesita DOS argumentos\n"
            ]
        },
        {
            "cell_type": "code",
            "execution_count": null,
            "metadata": {},
            "outputs": [],
            "source": [
                "Moneda <- function(R, Time){\n",
                "  # R: es el conjunto del cual se extrae la muestra - espacio muestral\n",
                "  # Time: es el tamaño de la serie resultante\n",
                "  U_t <- replicate(Time, \n",
                "                   sample(R, size = 1, replace = TRUE) )\n",
                "  # Esta es una funcion que genera un vector de resultados aleatorios de los posibles en\n",
                "  # el espacio muestral, tomando muestras de tamaño 1\n",
                "  return(U_t)\n",
                "}\n"
            ]
        },
        {
            "cell_type": "markdown",
            "metadata": {},
            "source": [
                "# Resutados: \n",
                "Inputs / argumentos de la funcion, para el caso de lanzar una moneda\n"
            ]
        },
        {
            "cell_type": "code",
            "execution_count": null,
            "metadata": {},
            "outputs": [],
            "source": [
                "Resultados <- c(-1, 1)\n",
                "#\n",
                "Periodos <- 10000\n",
                "\n",
                "# Creamos un data frame de nombre \"U\" con una columna llamada \"Tiempo\"\n",
                "U <- data.frame(Tiempo = c(1:Periodos))\n",
                "\n",
                "# Agregamos al data frame una columna \"U_t\" utilizando nuestra función de lanzamiento de\n",
                "# una moneda\n",
                "\n",
                "U$U_t <- Moneda( Resultados, Periodos )\n",
                "\n",
                "#\n",
                "mu = mean(U$U_t)\n",
                "mu\n",
                "\n",
                "#\n",
                "S2 = var(U$U_t)\n",
                "S2\n",
                "\n",
                "# Agregamos al data frame una columna SU_t que llenamos de ceros (0)\n",
                "U$SU_t <- replicate(Periodos, 0)\n",
                "\n",
                "View(U)\n"
            ]
        },
        {
            "cell_type": "markdown",
            "metadata": {},
            "source": [
                "El siguiente ciclo recorre el data frame para ir acumulando los valores de U_t y colocando el valor acumulado en SU_t\n",
                "\n"
            ]
        },
        {
            "cell_type": "code",
            "execution_count": null,
            "metadata": {},
            "outputs": [],
            "source": [
                "for(i in 1:Periodos){\n",
                "  U$SU_t[i] <- sum( U$U_t[1:i] )\n",
                "}\n",
                "\n",
                "View(U)\n"
            ]
        },
        {
            "cell_type": "markdown",
            "metadata": {},
            "source": [
                "# GRÁFICA\n",
                "\n"
            ]
        },
        {
            "cell_type": "code",
            "execution_count": null,
            "metadata": {},
            "outputs": [],
            "source": [
                "ggplot(data = U, aes( x = Tiempo, y = SU_t) ) + \n",
                "  geom_line(size = 0.5, color = \"darkblue\") +\n",
                "  #geom_point(size = 1.0, color = \"darkblue\") + \n",
                "  #theme_bw() + \n",
                "  theme(legend.position = \"none\") +\n",
                "  theme(legend.title = element_blank()) +\n",
                "  guides(col = guide_legend(nrow = 1, byrow = TRUE)) + \n",
                "  xlab(\"Tiempo\") + \n",
                "  ylab(\"Xt\") + \n",
                "  theme(plot.title = element_text(size = 11, face = \"bold\", hjust = 0)) + \n",
                "  theme(plot.subtitle = element_text(size = 10, hjust = 0)) + \n",
                "  theme(plot.caption = element_text(size = 10, hjust = 0)) +\n",
                "  theme(plot.margin = unit(c(1,1,1,1), \"cm\")) +\n",
                "  labs(\n",
                "    title = \"Gráfica de la serie de tiempo Xt\",\n",
                "    subtitle = \"Valores en pesos\",\n",
                "    caption = \"Fuente: Elaboración propia. \\nNotas: Simulación del lanzamiento de una moneda.\"\n",
                "  )\n",
                "\n",
                "ggsave(\"Lanzamiento_Moneda.png\", width = 30, height = 15, units = \"cm\")\n",
                "\n",
                "#\n"
            ]
        },
        {
            "cell_type": "markdown",
            "metadata": {},
            "source": [
                "# C. Solucion a traves de una funcion\n",
                "\n",
                "Utilizaremos una función guardada en un archivo a parte ('Caminata.R'). Llamamos a la función:\n"
            ]
        },
        {
            "cell_type": "code",
            "execution_count": null,
            "metadata": {},
            "outputs": [],
            "source": [
                "source(\"Caminata.R\")\n",
                "\n",
                "# Definimos argumentos de la función\n",
                "Opciones <- c(-1, 1)\n",
                "#\n",
                "Soporte <- 10000\n",
                "\n",
                "# Vamos a réplicar el proceso con estos parámetros\n",
                "Rango <- 200\n",
                "#\n",
                "Caminos <- 10\n",
                "\n",
                "#\n",
                "\n",
                "for(i in 1:Caminos){\n",
                "  TT <- data.matrix(data.frame(Caminata(Opciones, Soporte)[1]))\n",
                "  #\n",
                "  G_t <- data.matrix(data.frame(Caminata(Opciones, Soporte)[2]))\n",
                "  #\n",
                "  plot(TT, G_t, col = \"blue\", type = \"l\", ylab = \"Ganancias\", xlab = \"Tiempo\", ylim = c(-Rango,Rango))\n",
                "  #\n",
                "  par(new = TRUE)\n",
                "  #\n",
                "  i <- i +1\n",
                "}\n",
                "#\n",
                "par(new = FALSE)\n"
            ]
        }
    ],
    "metadata": {
        "anaconda-cloud": "",
        "kernelspec": {
            "display_name": "R",
            "langauge": "R",
            "name": "ir"
        },
        "language_info": {
            "codemirror_mode": "r",
            "file_extension": ".r",
            "mimetype": "text/x-r-source",
            "name": "R",
            "pygments_lexer": "r",
            "version": "3.4.1"
        }
    },
    "nbformat": 4,
    "nbformat_minor": 1
}
