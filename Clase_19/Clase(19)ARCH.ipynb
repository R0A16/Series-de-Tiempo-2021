{
    "cells": [
        {
            "cell_type": "markdown",
            "metadata": {},
            "source": "\n"
        },
        {
            "cell_type": "code",
            "execution_count": null,
            "metadata": {},
            "outputs": [],
            "source": [
                "#install.packages(\"dynlm\")\n",
                "#install.packages(\"moments\")\n",
                "#install.packages(\"broom\")\n",
                "#install.packages(\"FinTS\")\n",
                "#install.packages('rugarch')\n",
                "#install.packages(\"tsbox\")\n",
                "#install.packages(\"metRology\")\n",
                "#install.packages(\"expm\")\n",
                "#install.packages(\"MTS\")\n",
                "#install.packages(\"rmgarch\")\n",
                "#install.packages(\"Rcpp\")\n",
                "library(expm)\n",
                "library(Matrix)\n",
                "library(ggplot2)\n",
                "library(quantmod)\n",
                "library(moments)\n",
                "library(dynlm)\n",
                "library(broom)\n",
                "library(FinTS)\n",
                "library(lubridate)\n",
                "library(forecast)\n",
                "library(readxl)\n",
                "library(MASS)\n",
                "library(rugarch)\n",
                "library(tsbox)\n",
                "library(MTS)\n",
                "library(rmgarch)\n",
                "library(Rcpp)\n"
            ]
        },
        {
            "cell_type": "markdown",
            "metadata": {},
            "source": [
                "## Librería __Quantmod__\n",
                "\n",
                "Para el análisis de temas financieros existe una librería de mucha utilidad llamada __quantmod__. En primer lugar esta librería permite acceder a datos financieros de un modo muy simple, es posible decargar series financieras desde _yahoo_, la _FRED (Federal Reserve Economic Data)_, _google_, etc. Por otro lado también es una librería que permite realizar gráficos altamente estéticos con unas cuantas líneas de código. \n"
            ]
        },
        {
            "cell_type": "code",
            "execution_count": null,
            "metadata": {},
            "outputs": [],
            "source": [
                "options(\"getSymbols.warning4.0\"=FALSE)\n",
                "\n",
                "AMZN <-getSymbols(\"AMZN\", src = \"yahoo\", auto.assign = FALSE)\n",
                "\n",
                "AMZN <- na.omit(AMZN)\n",
                "\n",
                "chartSeries(AMZN,TA='addBBands();\n",
                "                    addBBands(draw=\"p\");\n",
                "                    addVo();\n",
                "                    addMACD()', \n",
                "                    subset='2021',\n",
                "                theme=\"white\")\n",
                "\n",
                "head(AMZN)\n"
            ]
        },
        {
            "cell_type": "markdown",
            "metadata": {},
            "source": [
                "Para fines del ejercicio de esta clase, usaremos el valor de la acción ajustado. Esto nos servirá para calcular el rendimiento diario, o puesto en lenguaje de series temporales podemos decir que usaremos la serie en diferencias logarítmicas. \n",
                "\n"
            ]
        },
        {
            "cell_type": "code",
            "execution_count": null,
            "metadata": {},
            "outputs": [],
            "source": [
                "plot(AMZN$AMZN.Adjusted)\n",
                "\n"
            ]
        },
        {
            "cell_type": "markdown",
            "metadata": {},
            "source": [
                "\n",
                "Una de las preguntas relevantes al observar la serie en diferencias, es si podríamos afirmar que esta serie cumple con el supuesto de homoscedasticidad. \n"
            ]
        },
        {
            "cell_type": "code",
            "execution_count": null,
            "metadata": {},
            "outputs": [],
            "source": [
                "logret <- ts(diff(log(AMZN$AMZN.Adjusted))[-1])\n",
                "\n",
                "plot(logret)\n"
            ]
        },
        {
            "cell_type": "markdown",
            "metadata": {},
            "source": [
                "## Value at risk\n",
                "\n",
                "El Valor en Riesgo, básicamente es un cálculo que nos permite estimar el monto que una acción o portafolio podría perder dada una probabilidad $(1-\\alpha)$\n"
            ]
        },
        {
            "cell_type": "code",
            "execution_count": null,
            "metadata": {},
            "outputs": [],
            "source": [
                "alpha <- 0.05\n",
                "VaR <- quantile(logret, alpha)\n",
                "\n",
                "round(VaR, 4)\n",
                "\n",
                "qplot(logret , geom = 'histogram') + geom_histogram(fill = 'lightblue' , bins = 30) +\n",
                "  geom_histogram(aes(logret[logret < quantile(logret , 0.05)]) , fill = 'red' , bins = 30) +\n",
                "  labs(x = 'Daily Returns')\n"
            ]
        },
        {
            "cell_type": "markdown",
            "metadata": {},
            "source": "\n"
        },
        {
            "cell_type": "code",
            "execution_count": null,
            "metadata": {},
            "outputs": [],
            "source": [
                "normal_dist <- rnorm(100000, mean(logret), sd(logret))\n",
                "VaR_n <- quantile(normal_dist, 0.05)\n",
                "ES_n <- mean(normal_dist[normal_dist<VaR])\n",
                "  \n",
                "ggplot()+\n",
                "  geom_density(aes(logret, geom ='density', col = 'returns'))+\n",
                "  geom_density(aes(normal_dist, col = 'normal'))\n"
            ]
        },
        {
            "cell_type": "markdown",
            "metadata": {},
            "source": [
                "\n",
                "\n"
            ]
        },
        {
            "cell_type": "code",
            "execution_count": null,
            "metadata": {},
            "outputs": [],
            "source": [
                "vector_ret <- as.vector(logret)\n",
                "\n",
                "##Kurtosis\n",
                "round(kurtosis(vector_ret),2)\n",
                "##Sesgo\n",
                "round(skewness(vector_ret),2)\n"
            ]
        },
        {
            "cell_type": "markdown",
            "metadata": {},
            "source": [
                "$H_o: K=S=0$\n",
                "\n"
            ]
        },
        {
            "cell_type": "code",
            "execution_count": null,
            "metadata": {},
            "outputs": [],
            "source": [
                "##Prueba de normalidad \n",
                "jarque.test(vector_ret)\n"
            ]
        },
        {
            "cell_type": "markdown",
            "metadata": {},
            "source": [
                "## Calcular VaR para una distribución t\n",
                "\n",
                "Como sabemos la distribución normal es un caso particular de la distribución t de student, correspondiente a un caso en el que los Grados de Libertad (_df_) tienden a infinito. Mediante el método de máxima verosimilitud nos aproximamos a una distribución t de student que describe mejor el comportamiento de los retornos de este activo. \n"
            ]
        },
        {
            "cell_type": "code",
            "execution_count": null,
            "metadata": {},
            "outputs": [],
            "source": [
                "t.fit <-fitdistr(vector_ret, \"t\")\n",
                "round(t.fit$estimate, 6)\n",
                "\n",
                "library(metRology)\n",
                "alpha <- 0.05\n",
                "set.seed(1289)\n",
                "rvec <- rt.scaled(length(logret), mean=t.fit$estimate[1],\n",
                "                  sd = t.fit$estimate[2],\n",
                "                  df = t.fit$estimate[3])\n",
                "\n",
                "VaR <- quantile(rvec, alpha)\n",
                "round(VaR, 6)\n"
            ]
        },
        {
            "cell_type": "markdown",
            "metadata": {},
            "source": "\n"
        },
        {
            "cell_type": "code",
            "execution_count": null,
            "metadata": {},
            "outputs": [],
            "source": [
                "ggplot()+\n",
                "  geom_density(aes(logret, geom ='density', col = 'returns'))+\n",
                "  geom_density(aes(normal_dist, col = 'normal'))+\n",
                "    geom_density(aes(rvec, col = 't_simulated'))\n"
            ]
        },
        {
            "cell_type": "markdown",
            "metadata": {},
            "source": [
                "# ARCH \n",
                "\n",
                "Hasta ahora las distribuciones utilizadas para medir el Valor en Riesgo de este activo, asumen que no existe correlación serial en los retornos diarios de este activo. Observemos un par de gráficas de la función de autocorrelación para corroborar este hecho. \n"
            ]
        },
        {
            "cell_type": "code",
            "execution_count": null,
            "metadata": {},
            "outputs": [],
            "source": [
                "plot(logret)\n",
                "acf(logret)\n"
            ]
        },
        {
            "cell_type": "markdown",
            "metadata": {},
            "source": [
                "\n",
                "La idea de clusterización de volatilidad, asume que periodos de alta volatilidad serán seguidos por una alta volatilidad y viceversa. Por esta razón la función de autocorrelación útil para saber si existen clusters de volatilidad, es utilizando el valor absoluto, ya que lo que importa es saber si la serie está autocorrelacionada en la magnitud de los movimientos. \n"
            ]
        },
        {
            "cell_type": "code",
            "execution_count": null,
            "metadata": {},
            "outputs": [],
            "source": [
                "acf(abs(logret))\n",
                "\n"
            ]
        },
        {
            "cell_type": "markdown",
            "metadata": {},
            "source": [
                "Otra manera de corroborar esta idea, es volviendo IID nuestra serie de datos y observar que de este modo se pierde la autocorrelación serial, lo que refuerza la idea de que en esta serie existen clusters de volatilidad. \n",
                "\n"
            ]
        },
        {
            "cell_type": "code",
            "execution_count": null,
            "metadata": {},
            "outputs": [],
            "source": [
                "logret_random <- sample(as.vector(logret),size =  length(logret), replace = FALSE)\n",
                "\n",
                "acf(abs(logret_random))\n",
                "\n",
                "par(mfrow = c(1,2))\n",
                "plot(logret)\n",
                "plot(logret_random, type = 'l')\n"
            ]
        },
        {
            "cell_type": "markdown",
            "metadata": {},
            "source": [
                "Primer enfoque para comprobar aceptar o rechazar la hopótesis de que necesitamos estimar un ARCH(q)\n",
                "\n"
            ]
        },
        {
            "cell_type": "code",
            "execution_count": null,
            "metadata": {},
            "outputs": [],
            "source": [
                "logret_mean = dynlm(logret~1)\n",
                "\n",
                "summary(logret_mean)\n",
                "\n",
                "ehatsq = ts(resid(logret_mean)^2)\n",
                "\n",
                "ARCH_m = dynlm(ehatsq~L(ehatsq))\n",
                "\n",
                "summary(ARCH_m)\n",
                "\n",
                "\n",
                "acf(ARCH_m$residuals)\n",
                "acf(abs(ARCH_m$residuals))\n",
                "\n",
                "ArchTest(logret, lags = 1, demean = TRUE)\n"
            ]
        },
        {
            "cell_type": "markdown",
            "metadata": {},
            "source": [
                "### ARCH(1)\n",
                "\n",
                "$Y_t = \\mu+\\sqrt{h_t}\\varepsilon_t$\n",
                "\n",
                "$h_t = \\omega+\\alpha_i\\varepsilon^2_{t-i}+u_t$\n",
                "\n",
                "$\\varepsilon$~$N(0,1)$\n"
            ]
        },
        {
            "cell_type": "code",
            "execution_count": null,
            "metadata": {},
            "outputs": [],
            "source": [
                "library(rugarch)\n",
                "\n",
                "auto.arima(logret)\n",
                "\n",
                "model.spec = ugarchspec(variance.model = list(model = 'sGARCH' , garchOrder = c(1, 0)), \n",
                "                        mean.model = list(armaOrder = c(0,0)), distribution.model = \"std\")\n",
                "\n",
                "arch.fit = ugarchfit(spec = model.spec , data = logret, solver = 'solnp')\n",
                "\n",
                "arch.fit@fit$matcoef\n",
                "\n",
                "boot.garch <- ugarchboot(arch.fit,\n",
                "                         method = \"Partial\",\n",
                "                         sampling = \"raw\",  #bootstrap from fitted varepsilon\n",
                "                         n.ahead = 1,          #simulation horizon\n",
                "                         n.bootpred = 100000, #number of simulations \n",
                "                         solver = \"solnp\")\n",
                "\n",
                "## VaR estimado mediante ARCH\n",
                "rvec <- boot.garch@fseries\n",
                "alpha <- 0.05\n",
                "VaR <- quantile(rvec, alpha)\n",
                "round(VaR,6)\n",
                "\n",
                "F_inv = qt(0.05, t.fit$estimate[3])\n",
                "\n",
                "tiempo= time(AMZN[-1])\n",
                "\n",
                "ggplot()+\n",
                "  geom_point(aes(y = logret,x = tiempo),colour = 'lightgrey' , size = 2) + \n",
                "  geom_line(aes(y = arch.fit@fit$sigma*(F_inv), x = tiempo), colour = 'red') +\n",
                "  geom_hline(yintercept = sd(logret)*qnorm(0.05) , colour = 'darkgreen' , size = 1.2) + theme_light() + \n",
                "  labs(x = '' , y = 'Daily Returns' , title = 'Value at Risk Comparison')\n"
            ]
        },
        {
            "cell_type": "markdown",
            "metadata": {},
            "source": [
                "## GARCH(0,1)\n",
                "\n",
                "$Y_t = \\mu+\\sqrt{h_t}\\varepsilon_t$\n",
                "\n",
                "$h_t = \\omega+\\beta_ih^2_{t-i}+u_t$\n",
                "\n",
                "$\\varepsilon$~$N(0,1)$\n"
            ]
        },
        {
            "cell_type": "code",
            "execution_count": null,
            "metadata": {},
            "outputs": [],
            "source": [
                "model.spec = ugarchspec(variance.model = list(model = 'sGARCH' , garchOrder = c(0,1)), \n",
                "                        mean.model = list(armaOrder = c(0,2)), distribution.model = \"std\")\n",
                "\n",
                "fit.garch.n = ugarchfit(spec = model.spec, data = logret, solver = \"solnp\")\n",
                "fit.garch.n@fit$matcoef\n",
                "\n",
                "boot.garch <- ugarchboot(fit.garch.n,\n",
                "                         method = \"Partial\",\n",
                "                         sampling = \"raw\",  #bootstrap from fitted varepsilon\n",
                "                         n.ahead = 1,          #simulation horizon\n",
                "                         n.bootpred = 100000, #number of simulations \n",
                "                         solver = \"solnp\")\n",
                "\n",
                "rvec <- boot.garch@fseries\n",
                "alpha <- 0.05\n",
                "VaR <- quantile(rvec, alpha)\n",
                "VaR\n",
                "\n",
                "F_inv = qt(0.05, t.fit$estimate[3])\n",
                "\n",
                "tiempo= time(AMZN[-1])\n",
                "\n",
                "ggplot()+\n",
                "  geom_point(aes(y = logret,x = tiempo),colour = 'lightgrey' , size = 2) + \n",
                "  geom_line(aes(y = fit.garch.n@fit$sigma*(F_inv), x = tiempo), colour = 'red') +\n",
                "  geom_hline(yintercept = sd(logret)*qnorm(0.05) , colour = 'darkgreen' , size = 1.2) + theme_light() + \n",
                "  labs(x = '' , y = 'Daily Returns' , title = 'Value at Risk Comparison')\n"
            ]
        },
        {
            "cell_type": "markdown",
            "metadata": {},
            "source": [
                "### Selección GARCH(p,q) óptimo\n",
                "\n",
                "$Y_t = \\mu+\\sqrt{h_t}\\varepsilon_t$\n",
                "\n",
                "$h_t = \\omega+\\beta_ih_{t-i}+\\alpha_i\\varepsilon^2_{t-i}+u_t$\n",
                "\n",
                "$\\varepsilon$~$N(0,1)$\n"
            ]
        },
        {
            "cell_type": "code",
            "execution_count": null,
            "metadata": {},
            "outputs": [],
            "source": [
                "#Criterios de información \n",
                "\n",
                "infocriteria(fit.garch.n)\n",
                "\n",
                "\n",
                "#Selección del modelo óptimo\n",
                "\n",
                "source(\"Lag_Opt_GARCH.R\")\n",
                "\n",
                "Lag_Opt_GARCH(ehatsq,4,4)\n"
            ]
        },
        {
            "cell_type": "markdown",
            "metadata": {},
            "source": "\n"
        },
        {
            "cell_type": "code",
            "execution_count": null,
            "metadata": {},
            "outputs": [],
            "source": [
                "# Estimación de modelo óptimo \n",
                "\n",
                "model.spec = ugarchspec(variance.model = list(model = 'sGARCH' , garchOrder = c(1,1)), \n",
                "                        mean.model = list(armaOrder = c(0,2)), distribution.model = \"std\")\n",
                "\n",
                "\n",
                "model.fit = ugarchfit(spec = model.spec , data = logret, solver = 'solnp')\n",
                "\n",
                "model.fit@fit$matcoef\n",
                "\n",
                "\n",
                "boot.garch <- ugarchboot(model.fit,\n",
                "                         method = \"Partial\",\n",
                "                         sampling = \"raw\",  #bootstrap from fitted varepsilon\n",
                "                         n.ahead = 1,          #simulation horizon\n",
                "                         n.bootpred = 100000, #number of simulations \n",
                "                         solver = \"solnp\")\n",
                "\n",
                "## VaR estimado mediante GARCH óptimo\n",
                "rvec <- boot.garch@fseries\n",
                "alpha <- 0.05\n",
                "VaR <- quantile(rvec, alpha)\n",
                "VaR\n",
                "\n",
                "F_inv = qt(0.05, t.fit$estimate[3])\n",
                "\n",
                "tiempo= time(AMZN[-1])\n",
                "\n",
                "ggplot()+\n",
                "  geom_point(aes(y = logret,x = tiempo),colour = 'lightgrey' , size = 2) + \n",
                "  geom_line(aes(y = model.fit@fit$sigma*(F_inv), x = tiempo), colour = 'red') +\n",
                "  geom_hline(yintercept = sd(logret)*qnorm(0.05) , colour = 'darkgreen' , size = 1.2) + theme_light() + \n",
                "  labs(x = '' , y = 'Daily Returns' , title = 'Value at Risk Comparison')\n"
            ]
        },
        {
            "cell_type": "markdown",
            "metadata": {},
            "source": [
                "### Comparativo entre cálculos \n",
                "\n"
            ]
        },
        {
            "cell_type": "code",
            "execution_count": null,
            "metadata": {},
            "outputs": [],
            "source": [
                "ggplot()+\n",
                "  geom_point(aes(y = logret,x = tiempo),colour = 'lightgrey' , size = 2) + \n",
                "  geom_line(aes(y = model.fit@fit$sigma*(F_inv), x = tiempo), colour = 'red') +\n",
                "  geom_line(aes(y = arch.fit@fit$sigma*(F_inv), x = tiempo), colour = 'blue', alpha = 0.25) +\n",
                "  geom_line(aes(y = fit.garch.n@fit$sigma*(F_inv), x = tiempo), colour = 'blue4') +\n",
                "  geom_hline(yintercept = sd(logret)*qnorm(0.05) , colour = 'darkgreen') + theme_light() + \n",
                "  labs(x = '' , y = 'Daily Returns' , title = 'Value at Risk Comparison')\n"
            ]
        }
    ],
    "metadata": {
        "anaconda-cloud": "",
        "kernelspec": {
            "display_name": "R",
            "langauge": "R",
            "name": "ir"
        },
        "language_info": {
            "codemirror_mode": "r",
            "file_extension": ".r",
            "mimetype": "text/x-r-source",
            "name": "R",
            "pygments_lexer": "r",
            "version": "3.4.1"
        }
    },
    "nbformat": 4,
    "nbformat_minor": 1
}
