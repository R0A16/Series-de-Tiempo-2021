{
    "cells": [
        {
            "cell_type": "markdown",
            "metadata": {},
            "source": [
                "\n",
                "### Dependencies and Setup\n"
            ]
        },
        {
            "cell_type": "code",
            "execution_count": null,
            "metadata": {},
            "outputs": [],
            "source": [
                "knitr::opts_chunk$set(echo = TRUE)\n",
                "\n",
                "#install.packages('astsa')\n",
                "#install.packages(\"tsDyn\") #if not yet installed\n",
                "#\n",
                "library(astsa)\n",
                "library(tsDyn)\n"
            ]
        },
        {
            "cell_type": "markdown",
            "metadata": {},
            "source": [
                "# Data:\n",
                "Monthly rates of deaths due to flu in the United States for 11 years\n"
            ]
        },
        {
            "cell_type": "code",
            "execution_count": null,
            "metadata": {},
            "outputs": [],
            "source": [
                "flu <- read.delim(\"flu.txt\")\n",
                "\n",
                "head(flu)\n"
            ]
        },
        {
            "cell_type": "markdown",
            "metadata": {},
            "source": [
                "# Convert time series\n",
                "\n"
            ]
        },
        {
            "cell_type": "code",
            "execution_count": null,
            "metadata": {},
            "outputs": [],
            "source": [
                "flu <- ts(flu)\n",
                "\n",
                "D_flu = diff(flu, lag = 1)\n"
            ]
        },
        {
            "cell_type": "markdown",
            "metadata": {},
            "source": [
                "# Plotting\n",
                "\n"
            ]
        },
        {
            "cell_type": "code",
            "execution_count": null,
            "metadata": {},
            "outputs": [],
            "source": [
                "plot(flu, type = \"b\", col = \"darkred\", ylab = \"\", \n",
                "     main = \"Monthly rates of deaths due to flu in the United States\")\n",
                "\n",
                "plot(D_flu, type=\"b\", col = \"darkred\", ylab = \"\", \n",
                "     main = \"Diff Monthly rates of deaths due to flu in the United States\")\n"
            ]
        },
        {
            "cell_type": "markdown",
            "metadata": {},
            "source": [
                "# Primer aproximación:\n",
                "\n"
            ]
        },
        {
            "cell_type": "code",
            "execution_count": null,
            "metadata": {},
            "outputs": [],
            "source": [
                "table = ts.intersect(D_flu, \n",
                "                     lag1 = lag(D_flu, -1), \n",
                "                     lag2 = lag(D_flu, -2), \n",
                "                     lag3 = lag(D_flu, -3), \n",
                "                     lag4 = lag(D_flu, -4))\n",
                "\n",
                "table\n"
            ]
        },
        {
            "cell_type": "markdown",
            "metadata": {},
            "source": [
                "##Regression for values below the threshold\n",
                "\n"
            ]
        },
        {
            "cell_type": "code",
            "execution_count": null,
            "metadata": {},
            "outputs": [],
            "source": [
                "x = table[, 1]\n",
                "P = table[, 2:5]\n",
                "c = .05 ## Threshold value\n",
                "\n",
                "less = (P[,1] < c)\n",
                "\n",
                "x1 = x[less]\n",
                "\n",
                "P1 = P[less,]\n"
            ]
        },
        {
            "cell_type": "markdown",
            "metadata": {},
            "source": "\n"
        },
        {
            "cell_type": "code",
            "execution_count": null,
            "metadata": {},
            "outputs": [],
            "source": [
                "x1\n",
                "\n"
            ]
        },
        {
            "cell_type": "markdown",
            "metadata": {},
            "source": [
                "\n",
                "\n"
            ]
        },
        {
            "cell_type": "code",
            "execution_count": null,
            "metadata": {},
            "outputs": [],
            "source": [
                "P1\n",
                "\n"
            ]
        },
        {
            "cell_type": "markdown",
            "metadata": {},
            "source": "\n"
        },
        {
            "cell_type": "code",
            "execution_count": null,
            "metadata": {},
            "outputs": [],
            "source": [
                "out1 = lm(x1 ~ P1[,1] + P1[,2] + P1[,3] + P1[,4])\n",
                "\n",
                "summary(out1)\n"
            ]
        },
        {
            "cell_type": "markdown",
            "metadata": {},
            "source": [
                "## Regression for values above the threshold\n",
                "\n"
            ]
        },
        {
            "cell_type": "code",
            "execution_count": null,
            "metadata": {},
            "outputs": [],
            "source": [
                "greater = (P[,1]>=c)\n",
                "\n",
                "x2 = x[greater]\n",
                "\n",
                "P2 = P[greater,]\n"
            ]
        },
        {
            "cell_type": "markdown",
            "metadata": {},
            "source": "\n"
        },
        {
            "cell_type": "code",
            "execution_count": null,
            "metadata": {},
            "outputs": [],
            "source": [
                "out2 = lm(x2 ~ P2[,1] + P2[,2] + P2[,3] + P2[,4])\n",
                "\n",
                "summary(out2)\n"
            ]
        },
        {
            "cell_type": "markdown",
            "metadata": {},
            "source": [
                "## Residuals\n",
                "\n"
            ]
        },
        {
            "cell_type": "code",
            "execution_count": null,
            "metadata": {},
            "outputs": [],
            "source": [
                "res1 = residuals(out1)\n",
                "res2 = residuals(out2)\n",
                "\n",
                "less[less==1] = res1\n",
                "greater[greater==1] = res2\n",
                "\n",
                "resid = less + greater\n",
                "acf2(resid)\n"
            ]
        },
        {
            "cell_type": "markdown",
            "metadata": {},
            "source": [
                "## Predicted values\n",
                "\n"
            ]
        },
        {
            "cell_type": "code",
            "execution_count": null,
            "metadata": {},
            "outputs": [],
            "source": [
                "less = (P[,1] < c)\n",
                "\n",
                "greater = (P[,1] >= c)\n",
                "\n",
                "fit1 = predict(out1)\n",
                "\n",
                "fit2 = predict(out2)\n",
                "\n",
                "less[less==1] = fit1\n",
                "\n",
                "greater[greater==1] = fit2\n",
                "\n",
                "fit = less + greater\n",
                "\n",
                "plot(D_flu, type=\"b\", col = \"darkred\", ylab = \"\", \n",
                "     main = \"Diff Monthly rates of deaths due to flu in the United States\")\n",
                "lines(fit, col = \"darkblue\", lty=\"dashed\")\n"
            ]
        },
        {
            "cell_type": "markdown",
            "metadata": {},
            "source": [
                "# The tsDyn package in R has simplified this code into a handful of steps:\n",
                "\n"
            ]
        },
        {
            "cell_type": "code",
            "execution_count": null,
            "metadata": {},
            "outputs": [],
            "source": [
                "#?setar\n",
                "\n",
                "D_flu_tar4_05 <- setar(D_flu, m = 4, thDelay = 0, th = 0.05) \n",
                "\n",
                "summary(D_flu_tar4_05) \n"
            ]
        },
        {
            "cell_type": "markdown",
            "metadata": {},
            "source": "\n"
        },
        {
            "cell_type": "code",
            "execution_count": null,
            "metadata": {},
            "outputs": [],
            "source": [
                "plot(D_flu_tar4_05)\n",
                "\n"
            ]
        },
        {
            "cell_type": "markdown",
            "metadata": {},
            "source": [
                "### If we do not provide a threshold to the th option, setar searches over a grid to choose a threshold ~ 0.038:\n",
                "\n"
            ]
        },
        {
            "cell_type": "code",
            "execution_count": null,
            "metadata": {},
            "outputs": [],
            "source": [
                "D_flu_tar4 <- setar(D_flu, m = 4, thDelay = 0)\n",
                "\n",
                "summary(D_flu_tar4)\n",
                "\n",
                "plot(D_flu_tar4)\n"
            ]
        }
    ],
    "metadata": {
        "anaconda-cloud": "",
        "kernelspec": {
            "display_name": "R",
            "langauge": "R",
            "name": "ir"
        },
        "language_info": {
            "codemirror_mode": "r",
            "file_extension": ".r",
            "mimetype": "text/x-r-source",
            "name": "R",
            "pygments_lexer": "r",
            "version": "3.4.1"
        }
    },
    "nbformat": 4,
    "nbformat_minor": 1
}
