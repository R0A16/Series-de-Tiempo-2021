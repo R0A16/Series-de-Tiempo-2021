{
    "cells": [
        {
            "cell_type": "markdown",
            "metadata": {},
            "source": [
                "\n",
                "### Dependencies and Setup\n"
            ]
        },
        {
            "cell_type": "code",
            "execution_count": null,
            "metadata": {},
            "outputs": [],
            "source": [
                "knitr::opts_chunk$set(echo = TRUE)\n",
                "\n",
                "#install.packages(\"ggplot2\")\n",
                "#install.packages(\"dplyr\")\n",
                "#install.packages(\"readxl\")\n",
                "#install.packages(stats)\n",
                "# \n",
                "library(ggplot2)\n",
                "library(dplyr)\n",
                "library(readxl)\n",
                "library(stats)\n"
            ]
        },
        {
            "cell_type": "markdown",
            "metadata": {},
            "source": [
                "# Importamos Datos:\n",
                "\n",
                "Los datos importados son:\n",
                "\n",
                "* Pax_Nal: Pasajeros (Salidas) en vuelos nacionales\n",
                "* Pax_Int: Pasajeros (Salidas) en vuelos internacionales \n",
                "* Vue_Nal: Vuelos u operaciones (Salidas) en vuelos nacionales\n",
                "* Vue_Int: Vuelos u operaciones (Salidas) en vuelos internacionales\n",
                "* Pax_Metro: Pasajeros transportados (Millones) en el SCM\n",
                "\n",
                "Fuente: INEGI, https://www.inegi.org.mx/app/indicadores/?tm=0&t=1090\n"
            ]
        },
        {
            "cell_type": "code",
            "execution_count": null,
            "metadata": {},
            "outputs": [],
            "source": [
                "Datos <- read_excel(\"Base_Transporte.xlsx\", sheet = \"Datos\", col_names = TRUE)\n",
                "\n",
                "head(Datos)\n"
            ]
        },
        {
            "cell_type": "markdown",
            "metadata": {},
            "source": [
                "# Conversion a series de tiempo:\n",
                "\n",
                "Una serie - caso univariado:\n"
            ]
        },
        {
            "cell_type": "code",
            "execution_count": null,
            "metadata": {},
            "outputs": [],
            "source": [
                "# En Niveles\n",
                "Dat_Aereo <- ts(Datos[c(\"Pax_Nal\", \"Pax_Int\", \"Vue_Nal\", \"Vue_Int\")], \n",
                "                start = c(2000, 1), \n",
                "                end = c(2021, 7), \n",
                "                freq = 12)\n",
                "\n",
                "Pax_Metro <- ts(Datos$Pax_Metro, start = c(2000, 1), \n",
                "                end = c(2021, 7), \n",
                "                freq = 12)\n",
                "\n",
                "# En Logaritmos:\n",
                "Dat_LAereo <- ts(log(Datos[c(\"Pax_Nal\", \"Pax_Int\", \"Vue_Nal\", \"Vue_Int\")]), \n",
                "                start = c(2000, 1), \n",
                "                end = c(2021, 7), \n",
                "                freq = 12)\n",
                "\n",
                "Pax_LMetro <- ts(log(Datos$Pax_Metro), start = c(2000, 1), \n",
                "                end = c(2021, 7), \n",
                "                freq = 12)\n",
                "\n",
                "# Diferencias mensuales:\n",
                "\n",
                "Pax_DLMetro <- ts( log(Datos$Pax_Metro) - lag(log(Datos$Pax_Metro), k = 1),\n",
                "                 start = c(2000, 1), freq = 12)\n"
            ]
        },
        {
            "cell_type": "markdown",
            "metadata": {},
            "source": [
                "# Graficas:\n",
                "\n"
            ]
        },
        {
            "cell_type": "code",
            "execution_count": null,
            "metadata": {},
            "outputs": [],
            "source": [
                "plot(Pax_Metro, xlab = \"Tiempo\", \n",
                "     main = \"Pasajeros transportados (Millones) en el SCM\",\n",
                "     col = \"darkgreen\")\n",
                "\n",
                "plot(Pax_LMetro, xlab = \"Tiempo\", \n",
                "     main = \"LN Pasajeros transportados (Millones) en el SCM\",\n",
                "     col = \"darkblue\")\n",
                "\n",
                "plot(Pax_DLMetro, xlab = \"Tiempo\", \n",
                "     main = \"Diff LN Pasajeros transportados (Millones) en el SCM\", \n",
                "     col = \"darkred\")\n"
            ]
        },
        {
            "cell_type": "markdown",
            "metadata": {},
            "source": [
                "\n",
                "\n"
            ]
        },
        {
            "cell_type": "code",
            "execution_count": null,
            "metadata": {},
            "outputs": [],
            "source": [
                "#\n",
                "par(mfrow = c(3,1))\n",
                "\n",
                "plot(Pax_Metro, xlab = \"Tiempo\", \n",
                "     main = \"Pasajeros transportados (Millones) en el SCM\",\n",
                "     col = \"darkgreen\")\n",
                "\n",
                "plot(Pax_LMetro, xlab = \"Tiempo\", \n",
                "     main = \"LN Pasajeros transportados (Millones) en el SCM\",\n",
                "     col = \"darkblue\")\n",
                "\n",
                "plot(Pax_DLMetro, xlab = \"Tiempo\", \n",
                "     main = \"Diff LN Pasajeros transportados (Millones) en el SCM\", \n",
                "     col = \"darkred\")\n",
                "\n",
                "par(mfrow=c(1,1))\n"
            ]
        },
        {
            "cell_type": "markdown",
            "metadata": {},
            "source": [
                "# Estimacion del proceo AR(1)\n",
                "## Utilizamos la función arima\n",
                "\n",
                "Serie en NIVELES:\n"
            ]
        },
        {
            "cell_type": "code",
            "execution_count": null,
            "metadata": {},
            "outputs": [],
            "source": [
                "# \n",
                "arima(Pax_LMetro, order = c(1, 0, 0), method = \"ML\")\n",
                "\n",
                "AR_Pax_LMetro <- arima(Pax_LMetro, order = c(1, 0, 0), method = \"ML\")\n",
                "\n",
                "AR_Pax_LMetro\n",
                "\n",
                "names(AR_Pax_LMetro)\n",
                "\n",
                "mean(AR_Pax_LMetro$residuals)\n",
                "\n",
                "plot(AR_Pax_LMetro$residuals, \n",
                "     col = \"darkred\",\n",
                "     xlab = \"Tiempo\", \n",
                "     ylab = \"\",\n",
                "     main = \"Residuales de un AR(1) para el \\nLN de los pasajeros del metro de la CDMX\")\n"
            ]
        },
        {
            "cell_type": "markdown",
            "metadata": {},
            "source": [
                "Serie en DIFERENCIAS:\n",
                "\n"
            ]
        },
        {
            "cell_type": "code",
            "execution_count": null,
            "metadata": {},
            "outputs": [],
            "source": [
                "# \n",
                "arima(Pax_DLMetro, order = c(1, 0, 0), method = \"ML\")\n",
                "\n",
                "arima(Pax_LMetro, order = c(1, 1, 0), method = \"ML\")\n",
                "\n",
                "AR_Pax_DLMetro <- arima(Pax_DLMetro, order = c(1, 0, 0), method = \"ML\")\n",
                "\n",
                "AR_Pax_DLMetro\n",
                "\n",
                "names(AR_Pax_DLMetro)\n",
                "\n",
                "mean(AR_Pax_DLMetro$residuals)\n",
                "\n",
                "plot(AR_Pax_DLMetro$residuals, \n",
                "     col = \"darkred\",\n",
                "     xlab = \"Tiempo\", \n",
                "     ylab = \"\",\n",
                "     main = \"Residuales de un AR(1) para la diferencia del \\nLN de los pasajeros del metro de la CDMX\")\n"
            ]
        },
        {
            "cell_type": "markdown",
            "metadata": {},
            "source": "\n"
        }
    ],
    "metadata": {
        "anaconda-cloud": "",
        "kernelspec": {
            "display_name": "R",
            "langauge": "R",
            "name": "ir"
        },
        "language_info": {
            "codemirror_mode": "r",
            "file_extension": ".r",
            "mimetype": "text/x-r-source",
            "name": "R",
            "pygments_lexer": "r",
            "version": "3.4.1"
        }
    },
    "nbformat": 4,
    "nbformat_minor": 1
}
