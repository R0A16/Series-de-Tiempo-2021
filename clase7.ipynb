{
  "nbformat": 4,
  "nbformat_minor": 0,
  "metadata": {
    "colab": {
      "name": "clase7.ipynb",
      "provenance": [],
      "authorship_tag": "ABX9TyN8CS3Jod/rd/gYLdDa5CZv",
      "include_colab_link": true
    },
    "kernelspec": {
      "name": "python3",
      "display_name": "Python 3"
    },
    "language_info": {
      "name": "python"
    }
  },
  "cells": [
    {
      "cell_type": "markdown",
      "metadata": {
        "id": "view-in-github",
        "colab_type": "text"
      },
      "source": [
        "<a href=\"https://colab.research.google.com/github/benjov/Series-de-Tiempo-2021/blob/main/clase7.ipynb\" target=\"_parent\"><img src=\"https://colab.research.google.com/assets/colab-badge.svg\" alt=\"Open In Colab\"/></a>"
      ]
    },
    {
      "cell_type": "markdown",
      "metadata": {
        "id": "kANiq093uMhh"
      },
      "source": [
        "#\"Clase 7.Aplicacion AR(P)\""
      ]
    },
    {
      "cell_type": "markdown",
      "metadata": {
        "id": "d57xzp26uWl7"
      },
      "source": [
        "\"Benjamin Oliva & Omar Alfaro-Rivera\""
      ]
    },
    {
      "cell_type": "markdown",
      "metadata": {
        "id": "lJyLyjY_ugDZ"
      },
      "source": [
        "21/09/21"
      ]
    },
    {
      "cell_type": "code",
      "metadata": {
        "id": "3KbHKBDPvX37"
      },
      "source": [
        "%load_ext rpy2.ipython"
      ],
      "execution_count": null,
      "outputs": []
    },
    {
      "cell_type": "markdown",
      "metadata": {
        "id": "CwzLi_hYvsTD"
      },
      "source": [
        "###Dependencies and Setup"
      ]
    },
    {
      "cell_type": "code",
      "metadata": {
        "id": "FDsRZzzivztv"
      },
      "source": [
        "%%R\n",
        "{r setup,include=FALSE,warning=FALSE,message=FALSE}"
      ],
      "execution_count": null,
      "outputs": []
    },
    {
      "cell_type": "markdown",
      "metadata": {
        "id": "O9FK9wYxwGMS"
      },
      "source": [
        "knitr::opts_chunk$set(echo=TRUE)"
      ]
    },
    {
      "cell_type": "markdown",
      "metadata": {
        "id": "XwMxVfwrwP6K"
      },
      "source": [
        "install.packages(\"ggplot2\")"
      ]
    },
    {
      "cell_type": "markdown",
      "metadata": {
        "id": "Aw5cPkJYwY6I"
      },
      "source": [
        "install.packages(\"dplyr\")"
      ]
    },
    {
      "cell_type": "markdown",
      "metadata": {
        "id": "NZdDCHe5wiUb"
      },
      "source": [
        "install.packages(\"readxl\")"
      ]
    },
    {
      "cell_type": "markdown",
      "metadata": {
        "id": "TBaivu_yw0Fh"
      },
      "source": [
        "install.packages(\"stats\")"
      ]
    },
    {
      "cell_type": "markdown",
      "metadata": {
        "id": "YimfujQ_w4c9"
      },
      "source": [
        "library(ggplot2)"
      ]
    },
    {
      "cell_type": "markdown",
      "metadata": {
        "id": "ijxVHcYMw7ih"
      },
      "source": [
        "library(dplyr)"
      ]
    },
    {
      "cell_type": "markdown",
      "metadata": {
        "id": "KFgEjgccw9gh"
      },
      "source": [
        "library(readxl)"
      ]
    },
    {
      "cell_type": "markdown",
      "metadata": {
        "id": "c0F96R7FxAhJ"
      },
      "source": [
        "library(stats)"
      ]
    },
    {
      "cell_type": "markdown",
      "metadata": {
        "id": "VIp_8p2cxC3j"
      },
      "source": [
        "##Importamos Datos:"
      ]
    },
    {
      "cell_type": "markdown",
      "metadata": {
        "id": "ql6y33OOxHK1"
      },
      "source": [
        "Los datos importados son:"
      ]
    },
    {
      "cell_type": "markdown",
      "metadata": {
        "id": "w7RpbT2iyR4c"
      },
      "source": [
        "*Pax_Nal: Pasajeros(Salidas) en vuelos nacionales"
      ]
    },
    {
      "cell_type": "markdown",
      "metadata": {
        "id": "B2Ve925WyYsf"
      },
      "source": [
        "*Pax_Int:Pasajeros(Salidas) en vuelos internacionales"
      ]
    },
    {
      "cell_type": "markdown",
      "metadata": {
        "id": "fZM5pKEDyfj2"
      },
      "source": [
        "*Vue_Nal:Vuelos u operaciones(Salidas) en vuelos nacionales"
      ]
    },
    {
      "cell_type": "markdown",
      "metadata": {
        "id": "2a1E3jzZynai"
      },
      "source": [
        "*Vue:Int:Vuelos u operaciones (Salidas )en vuelos internacionales"
      ]
    },
    {
      "cell_type": "markdown",
      "metadata": {
        "id": "tSl72E5IyvBK"
      },
      "source": [
        "*Pax_Metro:Pasajeros transportados(Millones)en el SCM"
      ]
    },
    {
      "cell_type": "markdown",
      "metadata": {
        "id": "M5xG-xicy03Y"
      },
      "source": [
        "Fuente: INEGI,https://www.inegi.org.mx/app/indicadores/?tm=0&t=1090"
      ]
    },
    {
      "cell_type": "code",
      "metadata": {
        "id": "oyJXMB35zECb"
      },
      "source": [
        "%%R\n",
        "Datos<-read_excel(\"Base_Transporte.xlsx\",sheet=\"Datos\",col_names=True)"
      ],
      "execution_count": null,
      "outputs": []
    },
    {
      "cell_type": "code",
      "metadata": {
        "id": "J_aUGHZxzjqL"
      },
      "source": [
        "%%R\n",
        "head(Datos)"
      ],
      "execution_count": null,
      "outputs": []
    },
    {
      "cell_type": "markdown",
      "metadata": {
        "id": "B2HmWqA2zped"
      },
      "source": [
        "##Funciones que extrae y grafica las raices del polinomio caracteristico"
      ]
    },
    {
      "cell_type": "code",
      "metadata": {
        "id": "wWVUtSkYzybg"
      },
      "source": [
        "%%R\n",
        "source(\"arroots.R\")"
      ],
      "execution_count": null,
      "outputs": []
    },
    {
      "cell_type": "code",
      "metadata": {
        "id": "Ra7UCqBnz-lC"
      },
      "source": [
        "%%R\n",
        "source(\"plot.armaroots.R\")"
      ],
      "execution_count": null,
      "outputs": []
    },
    {
      "cell_type": "markdown",
      "metadata": {
        "id": "G-HQPYlD0JMM"
      },
      "source": [
        "##Conversion a series de tiempo:"
      ]
    },
    {
      "cell_type": "code",
      "metadata": {
        "id": "J01DT7s00NJD"
      },
      "source": [
        "%%R\n",
        "Pax_Int<-ts(Datos$Pax_Int,\n",
        "            start=c(2000,1),\n",
        "            freq=12)"
      ],
      "execution_count": null,
      "outputs": []
    },
    {
      "cell_type": "markdown",
      "metadata": {
        "id": "ZPEG8Wpg1Yis"
      },
      "source": [
        "Logaritmos:"
      ]
    },
    {
      "cell_type": "code",
      "metadata": {
        "id": "06GvdfaV1PI4"
      },
      "source": [
        "%%R\n",
        "LPax_Int<-ts(log(Datos$Pax_Int),\n",
        "             start=c(2000,1),\n",
        "             freq=12)"
      ],
      "execution_count": null,
      "outputs": []
    },
    {
      "cell_type": "markdown",
      "metadata": {
        "id": "4-rLeTQC2Nk8"
      },
      "source": [
        "Diferencias mensuales:"
      ]
    },
    {
      "cell_type": "code",
      "metadata": {
        "id": "iDUD19La2XSJ"
      },
      "source": [
        "%%R\n",
        "DLPax_Int<-ts(log(Datos$Pax_Int)-lag(log(Datos$Pax_Int),\n",
        "                                     start=c(2000,1),\n",
        "                                     freq=12)"
      ],
      "execution_count": null,
      "outputs": []
    },
    {
      "cell_type": "markdown",
      "metadata": {
        "id": "-iAY_QUi3Mxb"
      },
      "source": [
        "##Graficas:"
      ]
    },
    {
      "cell_type": "code",
      "metadata": {
        "id": "C8sA65Qt3TLT"
      },
      "source": [
        "%%R\n",
        "{r,echo=FALSE}"
      ],
      "execution_count": null,
      "outputs": []
    },
    {
      "cell_type": "code",
      "metadata": {
        "id": "FTlaRMoP3ubl"
      },
      "source": [
        "%%R\n",
        "par(mfrow=c(3,1))"
      ],
      "execution_count": null,
      "outputs": []
    },
    {
      "cell_type": "code",
      "metadata": {
        "id": "kRr92BQM309O"
      },
      "source": [
        "%%R\n",
        "plot(Pax_Int, xlab= \"Tiempo\", ylab= \"Pasajeros\",\n",
        "      main=\"Pasajeros en vuelos internacionales de salida\",\n",
        "      col=\"darkgreen\")"
      ],
      "execution_count": null,
      "outputs": []
    },
    {
      "cell_type": "code",
      "metadata": {
        "id": "wflK-3x44m3E"
      },
      "source": [
        "%%R\n",
        "plot(LPax_Int, xlab= \"Tiempo\", ylab=\"LN Pasajeros\",\n",
        "     main=\"LN Pasajeros en vuelos internacionales de salida\",\n",
        "     col=\"darkblue\")"
      ],
      "execution_count": null,
      "outputs": []
    },
    {
      "cell_type": "code",
      "metadata": {
        "id": "JLQn9Wik5GOU"
      },
      "source": [
        "%%R\n",
        "plot(DLPax_Int, xlab=\"Tiempo\", ylab= \"DLN Pasajeros\",\n",
        "     main=\"Diff LN Pasajeros en vuelos internacionales de salida\",\n",
        "     col=\"darkred\")"
      ],
      "execution_count": null,
      "outputs": []
    },
    {
      "cell_type": "code",
      "metadata": {
        "id": "HkhHygMJ5cBt"
      },
      "source": [
        "%%R\n",
        "par(mfrow=c(1,1))"
      ],
      "execution_count": null,
      "outputs": []
    },
    {
      "cell_type": "markdown",
      "metadata": {
        "id": "eTLEvakp5gzx"
      },
      "source": [
        "##Estimacion del proceso AR(p)"
      ]
    },
    {
      "cell_type": "markdown",
      "metadata": {
        "id": "lLZrSmaf5rIX"
      },
      "source": [
        "Ar(p)en NIVELES:"
      ]
    },
    {
      "cell_type": "code",
      "metadata": {
        "id": "Yx7BQ3ZS5nUQ"
      },
      "source": [
        "%%R\n",
        "AR_LPax_Int<-arima(LPax_Int,order=c(4,0,0),method=\"ML\")"
      ],
      "execution_count": null,
      "outputs": []
    },
    {
      "cell_type": "code",
      "metadata": {
        "id": "gDlI4JZl59Bv"
      },
      "source": [
        "%%R\n",
        "AR_LPax_Int"
      ],
      "execution_count": null,
      "outputs": []
    },
    {
      "cell_type": "code",
      "metadata": {
        "id": "BeLxGmUH6QGu"
      },
      "source": [
        "%%R\n",
        "plot(AR_LPax_Int)"
      ],
      "execution_count": null,
      "outputs": []
    },
    {
      "cell_type": "code",
      "metadata": {
        "id": "cevjUXbQ6dU_"
      },
      "source": [
        "%%R\n",
        "plot/AR_LPax_Int$residuals)"
      ],
      "execution_count": null,
      "outputs": []
    },
    {
      "cell_type": "code",
      "metadata": {
        "id": "w8u8jJUl6l4s"
      },
      "source": [
        "%%R\n",
        "plot(armaroots(arroots(AR_LPax_Int),\n",
        "               main=\"Inverse AR roots of \\nAR(p):LN PAx Int\")"
      ],
      "execution_count": null,
      "outputs": []
    },
    {
      "cell_type": "markdown",
      "metadata": {
        "id": "iE9GW7637PI2"
      },
      "source": [
        "AR(p)en DIFERENCIAS"
      ]
    },
    {
      "cell_type": "code",
      "metadata": {
        "id": "xNIWEphI7jh9"
      },
      "source": [
        "%%R\n",
        "AR_DLPax_Int<-arima(DLPax_Int,order=c(4,0,0),method=\"ML\")"
      ],
      "execution_count": null,
      "outputs": []
    },
    {
      "cell_type": "code",
      "metadata": {
        "id": "iZu_N-3G8F-0"
      },
      "source": [
        "%%R\n",
        "AR_DLPax_Int"
      ],
      "execution_count": null,
      "outputs": []
    },
    {
      "cell_type": "code",
      "metadata": {
        "id": "VSCI3uIo8QV-"
      },
      "source": [
        "%%R\n",
        "plot(AR_DLPax_Int$residuals,xlab=\"Tiempo\",ylab=\"DLN Pasajeros\",\n",
        "     main=\"Residuales de un AR(4)para pasajeros en vuelos internacionales de salida\",\n",
        "     col=\"darkblue\")"
      ],
      "execution_count": null,
      "outputs": []
    },
    {
      "cell_type": "code",
      "metadata": {
        "id": "KS5i0Ux-8plt"
      },
      "source": [
        "%%R\n",
        "plot.armaroots(arroots(AR_DLPax_Int),\n",
        "               main=\"Inverse AR roots of \\nAR(p):Diff LN PAx Int\")"
      ],
      "execution_count": null,
      "outputs": []
    },
    {
      "cell_type": "markdown",
      "metadata": {
        "id": "TYX1_YLc89Bo"
      },
      "source": [
        "##Función de Autocorrelación Parcial"
      ]
    },
    {
      "cell_type": "code",
      "metadata": {
        "id": "D_bX4QaB9Bkc"
      },
      "source": [
        "%%R\n",
        "pacf(LPax_Int[1:234],lag.max=14,\n",
        "     main=\"Función de Autocorrelación Parcial de pasajeros en vuelos internacionales de salida\",\n",
        "     xlab='Rezagos en k meses')"
      ],
      "execution_count": null,
      "outputs": []
    },
    {
      "cell_type": "code",
      "metadata": {
        "id": "xezV3E9c9cUK"
      },
      "source": [
        "%%R\n",
        "pacf(DLPax_Int[2:234],lag.max=14,\n",
        "     main=\"Función de Autocorrelacion Parcial de Pasajeros en vuelos internacionales de salida\",\n",
        "     xlab='Rezagos en k meses')"
      ],
      "execution_count": null,
      "outputs": []
    }
  ]
}