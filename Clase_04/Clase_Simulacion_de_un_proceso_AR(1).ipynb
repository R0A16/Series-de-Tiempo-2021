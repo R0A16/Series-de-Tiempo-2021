{
    "cells": [
        {
            "cell_type": "markdown",
            "metadata": {},
            "source": [
                "\n",
                "### Dependencies and Setup\n"
            ]
        },
        {
            "cell_type": "code",
            "execution_count": null,
            "metadata": {},
            "outputs": [],
            "source": [
                "knitr::opts_chunk$set(echo = TRUE)\n",
                "\n",
                "#install.packages(\"ggplot2\")\n",
                "#install.packages(\"dplyr\")\n",
                "#install.packages(\"readxl\")\n",
                "#install.packages(\"latex2exp\")\n",
                "# \n",
                "library(ggplot2)\n",
                "library(dplyr)\n",
                "library(readxl)\n",
                "library(latex2exp)\n"
            ]
        },
        {
            "cell_type": "markdown",
            "metadata": {},
            "source": [
                "# Simulación de un proceso AR(1)\n",
                "\n",
                "Definamos la serie de tiempo, el proceso AR(1) es: \n",
                "\n",
                "\\begin{equation}\n",
                "  X_t = a_0 + a_1 X_{t-1} + U_t\n",
                "\\end{equation}\n",
                "\n",
                "# Parametros:\n"
            ]
        },
        {
            "cell_type": "code",
            "execution_count": null,
            "metadata": {},
            "outputs": [],
            "source": [
                "a0 <- 5; a1 <- 0.9; X_0 <- (a0/(1 - a1)); T <- 1000\n",
                "\n"
            ]
        },
        {
            "cell_type": "markdown",
            "metadata": {},
            "source": [
                "# Definimos un data frame para almacenar el proceso, agregamos una columna para el tiempo\n",
                "\n"
            ]
        },
        {
            "cell_type": "code",
            "execution_count": null,
            "metadata": {},
            "outputs": [],
            "source": [
                "X_t <- data.frame(Tiempo = c(0:T))\n",
                "\n",
                "View(X_t)\n"
            ]
        },
        {
            "cell_type": "markdown",
            "metadata": {},
            "source": [
                "#  Parte estocastica de la serie de tiempo:\n",
                "\n"
            ]
        },
        {
            "cell_type": "code",
            "execution_count": null,
            "metadata": {},
            "outputs": [],
            "source": [
                "set.seed(12345)\n",
                "\n",
                "# Agregamos un término estocástico al data frame\n",
                "\n",
                "X_t$U_t <- rnorm(T+1, mean = 0, sd = 4)\n",
                "\n",
                "View(X_t)\n"
            ]
        },
        {
            "cell_type": "markdown",
            "metadata": {},
            "source": [
                "# GRÁFICA\n",
                "\n"
            ]
        },
        {
            "cell_type": "code",
            "execution_count": null,
            "metadata": {},
            "outputs": [],
            "source": [
                "ggplot(data = X_t, aes(x = Tiempo, y = U_t)) + \n",
                "  geom_line(size = 0.5, color = \"darkblue\") +\n",
                "  #theme_bw() + \n",
                "  xlab(\"Tiempo\") + \n",
                "  ylab(TeX(\"$u_t$\")) + \n",
                "  theme(plot.title = element_text(size = 11, face = \"bold\", hjust = 0)) + \n",
                "  theme(plot.subtitle = element_text(size = 10, hjust = 0)) + \n",
                "  theme(plot.caption = element_text(size = 10, hjust = 0)) +\n",
                "  theme(plot.margin = unit(c(1,1,1,1), \"cm\")) +\n",
                "  labs(\n",
                "    title = \"Proceso 'puramente' aleatorio\",\n",
                "    subtitle = \"Distribución Normal, media = 0, desviación estándar = 4\",\n",
                "    caption = \"Fuente: Elaboración propia.\"\n",
                "  )\n"
            ]
        },
        {
            "cell_type": "markdown",
            "metadata": {},
            "source": [
                "# Trayectoria del proceso AR(1) y de la solucion del mismo:\n",
                "\\begin{equation}\n",
                "  X_t = \\frac{a_0}{1 - a_1} + \\sum a_1^j U_{t-j}\n",
                "\\end{equation}\n"
            ]
        },
        {
            "cell_type": "code",
            "execution_count": null,
            "metadata": {},
            "outputs": [],
            "source": [
                "# Agregamos columnas con NA's para un proceso teorico y uno real\n",
                "X_t$X_t <- NA\n",
                "X_t$XR_t <- NA\n",
                "\n",
                "# La serie teórica inicia en un valor inicial X_0\n",
                "X_t$X_t[1] <- X_0\n",
                "\n",
                "# La serie real inicia en un valor inicial X_0\n",
                "X_t$XR_t[1] <- X_0\n",
                "\n",
                "# Agregamos una columna para la función de Autocorrelación teórica:\n",
                "X_t$rho <-NA\n"
            ]
        },
        {
            "cell_type": "markdown",
            "metadata": {},
            "source": [
                "# Construcción de dos procesos: uno 'real' y uno 'estimado' o teórico y autocorrelación\n",
                "\n"
            ]
        },
        {
            "cell_type": "code",
            "execution_count": null,
            "metadata": {},
            "outputs": [],
            "source": [
                "for (i in 2:(T + 1)) {\n",
                "  # Real:\n",
                "  X_t$XR_t[i] = a0 + a1*X_t$XR_t[i-1] + X_t$U_t[i-1]\n",
                "  \n",
                "  # Teórico:\n",
                "  X_t$X_t[i] = X_t$X_t[i-1] + (a1^(i-1))*X_t$U_t[i-1]\n",
                "  \n",
                "  # Autocorrelación:\n",
                "  X_t$rho[i-1] = a1^(i-1)\n",
                "}\n"
            ]
        },
        {
            "cell_type": "markdown",
            "metadata": {},
            "source": [
                "# Graficas:\n",
                "\n"
            ]
        },
        {
            "cell_type": "code",
            "execution_count": null,
            "metadata": {},
            "outputs": [],
            "source": [
                "ggplot(data = X_t, aes(x = Tiempo, y = X_t)) + \n",
                "  geom_line(size = 0.5, color = \"darkblue\") +\n",
                "  #theme_bw() + \n",
                "  xlab(\"Tiempo\") + \n",
                "  ylab(TeX(\"$X_t$\")) + \n",
                "  theme(plot.title = element_text(size = 11, face = \"bold\", hjust = 0)) + \n",
                "  theme(plot.subtitle = element_text(size = 10, hjust = 0)) + \n",
                "  theme(plot.caption = element_text(size = 10, hjust = 0)) +\n",
                "  theme(plot.margin = unit(c(1,1,1,1), \"cm\")) +\n",
                "  labs(\n",
                "    title = \"Comportamiento del Proceso Teórico\",\n",
                "    subtitle = \"Con un error con Distribución Normal (media = 0, desviación estándar = 4)\",\n",
                "    caption = \"Fuente: Elaboración propia.\"\n",
                "  )\n",
                "\n",
                "ggsave(\"G_AR_1_Teo.png\", width = 20, height = 10, units = \"cm\")\n"
            ]
        },
        {
            "cell_type": "markdown",
            "metadata": {},
            "source": [
                "\n",
                "\n"
            ]
        },
        {
            "cell_type": "code",
            "execution_count": null,
            "metadata": {},
            "outputs": [],
            "source": [
                "ggplot(data = X_t, aes(x = Tiempo, y = XR_t)) + \n",
                "  geom_line(size = 0.5, color = \"darkred\") +\n",
                "  #theme_bw() + \n",
                "  xlab(\"Tiempo\") + \n",
                "  ylab(TeX(\"$X_t$\")) + \n",
                "  theme(plot.title = element_text(size = 11, face = \"bold\", hjust = 0)) + \n",
                "  theme(plot.subtitle = element_text(size = 10, hjust = 0)) + \n",
                "  theme(plot.caption = element_text(size = 10, hjust = 0)) +\n",
                "  theme(plot.margin = unit(c(1,1,1,1), \"cm\")) +\n",
                "  labs(\n",
                "    title = \"Comportamiento del Proceso Real ('Estimado')\",\n",
                "    subtitle = \"Con un error con Distribución Normal (media = 0, desviación estándar = 4)\",\n",
                "    caption = \"Fuente: Elaboración propia.\"\n",
                "  )\n",
                "\n",
                "ggsave(\"G_AR_1_Real.png\", width = 20, height = 10, units = \"cm\")\n"
            ]
        },
        {
            "cell_type": "markdown",
            "metadata": {},
            "source": [
                "\n",
                "\n"
            ]
        },
        {
            "cell_type": "code",
            "execution_count": null,
            "metadata": {},
            "outputs": [],
            "source": [
                "ggplot(data = X_t, aes(x = Tiempo)) +\n",
                "  geom_line(aes(y = XR_t), size = 0.5, color = \"darkred\") +\n",
                "  geom_line(aes(y = X_t), size = 0.5, color = \"darkblue\") +\n",
                "  #theme_bw() + \n",
                "  xlab(\"Tiempo\") + \n",
                "  ylab(TeX(\"$X_t$\")) + \n",
                "  theme(plot.title = element_text(size = 11, face = \"bold\", hjust = 0)) + \n",
                "  theme(plot.subtitle = element_text(size = 10, hjust = 0)) + \n",
                "  theme(plot.caption = element_text(size = 10, hjust = 0)) +\n",
                "  theme(plot.margin = unit(c(1,1,1,1), \"cm\")) +\n",
                "  labs(\n",
                "    title = \"Comportamiento de los Procesos Real y Teórico\",\n",
                "    subtitle = \"Con un error con Distribución Normal (media = 0, desviación estándar = 4)\",\n",
                "    caption = \"Fuente: Elaboración propia.\"\n",
                "  )\n",
                "\n",
                "ggsave(\"G_AR_1_Comb.png\", width = 20, height = 10, units = \"cm\")\n"
            ]
        },
        {
            "cell_type": "markdown",
            "metadata": {},
            "source": "\n"
        },
        {
            "cell_type": "code",
            "execution_count": null,
            "metadata": {},
            "outputs": [],
            "source": [
                "acf(X_t$XR_t, lag.max = 30, col = \"blue\", \n",
                "    ylab = \"Autocorrelacion\",\n",
                "    xlab=\"Rezagos\", \n",
                "    main=\"Funcion de Autocorrelacion Real\")\n"
            ]
        },
        {
            "cell_type": "markdown",
            "metadata": {},
            "source": "\n"
        },
        {
            "cell_type": "code",
            "execution_count": null,
            "metadata": {},
            "outputs": [],
            "source": [
                "barplot(X_t$rho[1:30], names.arg = c(1:30), col = \"blue\", border=\"blue\", density = c(10,20), \n",
                "        ylab = \"Autocorrelacion\", \n",
                "        xlab=\"Rezagos\", \n",
                "        main=\"Funcion de Autocorrelacion Teórica\")\n"
            ]
        }
    ],
    "metadata": {
        "anaconda-cloud": "",
        "kernelspec": {
            "display_name": "R",
            "langauge": "R",
            "name": "ir"
        },
        "language_info": {
            "codemirror_mode": "r",
            "file_extension": ".r",
            "mimetype": "text/x-r-source",
            "name": "R",
            "pygments_lexer": "r",
            "version": "3.4.1"
        }
    },
    "nbformat": 4,
    "nbformat_minor": 1
}
