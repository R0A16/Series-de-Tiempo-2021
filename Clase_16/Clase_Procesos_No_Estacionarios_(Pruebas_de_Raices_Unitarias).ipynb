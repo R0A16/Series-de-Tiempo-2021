{
    "cells": [
        {
            "cell_type": "markdown",
            "metadata": {},
            "source": [
                "\n",
                "### Dependencies and Setup\n"
            ]
        },
        {
            "cell_type": "code",
            "execution_count": null,
            "metadata": {},
            "outputs": [],
            "source": [
                "knitr::opts_chunk$set(echo = TRUE)\n",
                "\n",
                "#install.packages(\"ggplot2\")\n",
                "#install.packages(\"dplyr\")\n",
                "#install.packages(stats)\n",
                "#install.packages(\"MASS\")\n",
                "#install.packages(\"strucchange\")\n",
                "#install.packages(\"zoo\")\n",
                "#install.packages(\"sandwich\")\n",
                "#install.packages(\"urca\")\n",
                "#install.packages(\"lmtest\")\n",
                "#install.packages(\"vars\")\n",
                "# \n",
                "library(ggplot2)\n",
                "library(dplyr)\n",
                "library(stats)\n",
                "library(MASS)\n",
                "library(strucchange)\n",
                "library(zoo)\n",
                "library(sandwich)\n",
                "library(urca)\n",
                "library(lmtest)\n",
                "library(vars)\n"
            ]
        },
        {
            "cell_type": "markdown",
            "metadata": {},
            "source": [
                "# Importamos Datos desde un archivo de R:\n",
                "\n",
                "Los datos \"cargados\" son los originales y los ajustados por estacionalidad. Los cuales son:\n",
                "\n",
                "* INPC: Indice Nacional de Precios al Consumidor (2QJul2018 = 100)\n",
                "\n",
                "* TC: Tipo de Cambio FIX \n",
                "\n",
                "* CETE28: Tasa de rendimiento promedio mensual de los Cetes 28, en por ciento anual\n",
                "\n",
                "* IGAE: Indicador global de la actividad económica (2013 = 100)\n",
                "\n",
                "* IPI: Industrial Production Index (2012 = 100)\n"
            ]
        },
        {
            "cell_type": "code",
            "execution_count": null,
            "metadata": {},
            "outputs": [],
            "source": [
                "load(\"Datos_Ad.RData\")\n",
                "\n",
                "head(Datos_Ad)\n"
            ]
        },
        {
            "cell_type": "markdown",
            "metadata": {},
            "source": [
                "## Conversion a series de tiempo:\n",
                "\n"
            ]
        },
        {
            "cell_type": "code",
            "execution_count": null,
            "metadata": {},
            "outputs": [],
            "source": [
                "Datos <- ts(Datos_Ad[7: 11], \n",
                "            start = c(2000, 1), \n",
                "            end = c(2021, 7), \n",
                "            freq = 12)\n",
                "\n",
                "LDatos <- log(Datos)\n",
                "\n",
                "DLDatos <- diff(log(Datos, base = exp(1)), \n",
                "                lag = 1, \n",
                "                differences = 1)\n",
                "\n",
                "DaLDatos <- diff(log(Datos, base = exp(1)), \n",
                "                 lag = 12, \n",
                "                 differences = 1)\n"
            ]
        },
        {
            "cell_type": "markdown",
            "metadata": {},
            "source": [
                "\n",
                "# Gráficas\n"
            ]
        },
        {
            "cell_type": "code",
            "execution_count": null,
            "metadata": {},
            "outputs": [],
            "source": [
                "plot(LDatos, \n",
                "     plot.type = \"m\", nc = 2,\n",
                "     col = c(\"darkgreen\", \"darkblue\", \"darkred\", \"orange\", \"purple\"), \n",
                "     main = \"Series en Logaritmos\", \n",
                "     xlab = \"Tiempo\")\n",
                "\n",
                "#\n",
                "\n",
                "plot(DLDatos, \n",
                "     plot.type = \"m\", nc = 2,\n",
                "     col = c(\"darkgreen\", \"darkblue\", \"darkred\", \"orange\", \"purple\"), \n",
                "     main = \"Series en Diferencias Logaritmicas\", \n",
                "     xlab = \"Tiempo\")\n",
                "\n",
                "#\n",
                "\n",
                "plot(DaLDatos, \n",
                "     plot.type = \"m\", nc = 2,\n",
                "     col = c(\"darkgreen\", \"darkblue\", \"darkred\", \"orange\", \"purple\"), \n",
                "     main = \"Series en Diferencias Anuales Logaritmicas\", \n",
                "     xlab = \"Tiempo\")\n",
                "\n",
                "#\n",
                "\n",
                "plot(cbind(DLDatos, DaLDatos), \n",
                "     plot.type = \"m\", nc = 2,\n",
                "     col = c(\"darkgreen\", \"darkblue\", \"darkred\", \"orange\", \"purple\"), \n",
                "     main = \"Comparacion de Series en Diferencias\", \n",
                "     xlab = \"Tiempo\")\n",
                "#\n",
                "\n",
                "plot(cbind(LDatos, DLDatos), \n",
                "     plot.type = \"m\", nc = 2,\n",
                "     col = c(\"darkgreen\", \"darkblue\", \"darkred\", \"orange\", \"purple\"), \n",
                "     main = \"Comparacion de Series en Diferencias\", \n",
                "     xlab = \"Tiempo\")\n"
            ]
        },
        {
            "cell_type": "markdown",
            "metadata": {},
            "source": [
                "# Pruebas de Raices Unitarias\n",
                "\n",
                "1. ADF: Augmented Dickey - Fuller Test\n",
                "ur.df = function (y, type = c(\"none\", \"drift\", \"trend\"), lags = 1, selectlags = c(\"Fixed\", \"AIC\", \"BIC\")) \n",
                "\n",
                "## Dickey-Fuller:\n",
                "\n",
                "### NIVELES: Tipo de cambio\n"
            ]
        },
        {
            "cell_type": "code",
            "execution_count": null,
            "metadata": {},
            "outputs": [],
            "source": [
                "summary(ur.df(LDatos[, 2], type = \"trend\", lags = 0))\n",
                "\n",
                "summary(ur.df(LDatos[, 2], type = \"drift\", lags = 0))\n",
                "\n",
                "summary(ur.df(LDatos[, 2], type = \"none\", lags = 0))\n"
            ]
        },
        {
            "cell_type": "markdown",
            "metadata": {},
            "source": [
                "### DIFERENCIAS: Tipo de cambio\n",
                "\n"
            ]
        },
        {
            "cell_type": "code",
            "execution_count": null,
            "metadata": {},
            "outputs": [],
            "source": [
                "summary(ur.df(DLDatos[, 2], type = \"trend\", lags = 0))\n",
                "\n",
                "summary(ur.df(DLDatos[, 2], type = \"drift\", lags = 0))\n",
                "\n",
                "summary(ur.df(DLDatos[, 2], type = \"none\", lags = 0))\n"
            ]
        },
        {
            "cell_type": "markdown",
            "metadata": {},
            "source": [
                "## Augmented Dickey - Fuller\n",
                "\n",
                "p = int{4*(T/100)^(1/4)}\n",
                "   = int{4*(234/100)^(1/4)}\n",
                "   = int{4.9475}\n",
                "   = 4\n",
                "\n",
                "### NIVELES: Tipo de cambio\n"
            ]
        },
        {
            "cell_type": "code",
            "execution_count": null,
            "metadata": {},
            "outputs": [],
            "source": [
                "summary(ur.df(LDatos[, 2], type = \"trend\", lags = 4))\n",
                "\n",
                "summary(ur.df(LDatos[, 2], type = \"drift\", lags = 4))\n",
                "\n",
                "summary(ur.df(LDatos[, 2], type = \"none\", lags = 4))\n"
            ]
        },
        {
            "cell_type": "markdown",
            "metadata": {},
            "source": [
                "### DIFERENCIAS: Tipo de cambio\n",
                "\n"
            ]
        },
        {
            "cell_type": "code",
            "execution_count": null,
            "metadata": {},
            "outputs": [],
            "source": [
                "summary(ur.df(DLDatos[, 2], type = \"trend\", lags = 4))\n",
                "\n",
                "summary(ur.df(DLDatos[, 2], type = \"drift\", lags = 4))\n",
                "\n",
                "summary(ur.df(DLDatos[, 2], type = \"none\", lags = 4))\n"
            ]
        },
        {
            "cell_type": "markdown",
            "metadata": {},
            "source": [
                "## PP: Phillips - Perron Test\n",
                "\n",
                "ur.pp = function (x, type = c(\"Z-alpha\", \"Z-tau\"), model = c(\"constant\", \"trend\"), lags = c(\"short\", \"long\"), use.lag = NULL) \n",
                "\n",
                "### NIVELES: Tipo de cambio\n"
            ]
        },
        {
            "cell_type": "code",
            "execution_count": null,
            "metadata": {},
            "outputs": [],
            "source": [
                "summary(ur.pp(LDatos[, 2], type = \"Z-tau\", model = \"trend\", use.lag = 4))\n",
                "\n",
                "summary(ur.pp(LDatos[, 2], type = \"Z-tau\", model = \"constant\", use.lag = 4))\n"
            ]
        },
        {
            "cell_type": "markdown",
            "metadata": {},
            "source": [
                "### DIFERENCIAS: Tipo de cambio\n",
                "\n"
            ]
        },
        {
            "cell_type": "code",
            "execution_count": null,
            "metadata": {},
            "outputs": [],
            "source": [
                "summary(ur.pp(DLDatos[, 2], type = \"Z-tau\", model = \"trend\", use.lag = 4))\n",
                "\n",
                "summary(ur.pp(DLDatos[, 2], type = \"Z-tau\", model = \"constant\", use.lag = 4))\n"
            ]
        },
        {
            "cell_type": "markdown",
            "metadata": {},
            "source": [
                "## KPSS: \n",
                "\n",
                "ur.kpss = function (y, type = c(\"mu\", \"tau\"), lags = c(\"short\", \"long\", \"nil\"), use.lag = NULL)\n",
                "\n",
                "### NIVELES: Tipo de cambio\n"
            ]
        },
        {
            "cell_type": "code",
            "execution_count": null,
            "metadata": {},
            "outputs": [],
            "source": [
                "summary(ur.kpss(LDatos[, 2], type = \"tau\"))\n",
                "\n",
                "summary(ur.kpss(LDatos[, 2], type = \"mu\"))\n"
            ]
        },
        {
            "cell_type": "markdown",
            "metadata": {},
            "source": [
                "### DIFERENCIAS: Tipo de cambio\n",
                "\n"
            ]
        },
        {
            "cell_type": "code",
            "execution_count": null,
            "metadata": {},
            "outputs": [],
            "source": [
                "summary(ur.kpss(DLDatos[, 2], type = \"tau\", use.lag = 4))\n",
                "\n",
                "summary(ur.kpss(DLDatos[, 2], type = \"mu\", use.lag = 4))\n"
            ]
        }
    ],
    "metadata": {
        "anaconda-cloud": "",
        "kernelspec": {
            "display_name": "R",
            "langauge": "R",
            "name": "ir"
        },
        "language_info": {
            "codemirror_mode": "r",
            "file_extension": ".r",
            "mimetype": "text/x-r-source",
            "name": "R",
            "pygments_lexer": "r",
            "version": "3.4.1"
        }
    },
    "nbformat": 4,
    "nbformat_minor": 1
}
