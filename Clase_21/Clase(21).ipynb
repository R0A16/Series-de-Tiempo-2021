{
    "cells": [
        {
            "cell_type": "markdown",
            "metadata": {},
            "source": [
                "\n",
                "### Dependencies and Setup\n"
            ]
        },
        {
            "cell_type": "code",
            "execution_count": null,
            "metadata": {},
            "outputs": [],
            "source": [
                "knitr::opts_chunk$set(echo = TRUE)\n",
                "\n",
                "#install.packages(\"plm\")\n",
                "#\n",
                "library(plm)\n"
            ]
        },
        {
            "cell_type": "markdown",
            "metadata": {},
            "source": [
                "# Download data from library PLM\n",
                "\n"
            ]
        },
        {
            "cell_type": "code",
            "execution_count": null,
            "metadata": {},
            "outputs": [],
            "source": [
                "data(\"EmplUK\", package=\"plm\")\n",
                "\n",
                "data(\"Produc\", package=\"plm\")\n",
                "\n",
                "data(\"Grunfeld\", package=\"plm\")\n",
                "\n",
                "data(\"Wages\", package=\"plm\")\n"
            ]
        },
        {
            "cell_type": "markdown",
            "metadata": {},
            "source": [
                "# Describe data\n",
                "\n",
                "Grunfeld data (Grunfeld 1958) comprising 20 annual observations on the three variables real gross investment (invest), real value of the firm (value), and real value of the capital stock (capital) for 10 large US firms for the years 1935–1954\n"
            ]
        },
        {
            "cell_type": "code",
            "execution_count": null,
            "metadata": {},
            "outputs": [],
            "source": [
                "names(Grunfeld)\n",
                "\n"
            ]
        },
        {
            "cell_type": "markdown",
            "metadata": {},
            "source": "\n"
        },
        {
            "cell_type": "code",
            "execution_count": null,
            "metadata": {},
            "outputs": [],
            "source": [
                "head(Grunfeld)\n",
                "\n"
            ]
        },
        {
            "cell_type": "markdown",
            "metadata": {},
            "source": "\n"
        },
        {
            "cell_type": "code",
            "execution_count": null,
            "metadata": {},
            "outputs": [],
            "source": [
                "Invest <- data.frame(split( Grunfeld$inv, Grunfeld$firm )) # individuals in columns\n",
                "\n",
                "names(Invest)\n"
            ]
        },
        {
            "cell_type": "markdown",
            "metadata": {},
            "source": "\n"
        },
        {
            "cell_type": "code",
            "execution_count": null,
            "metadata": {},
            "outputs": [],
            "source": [
                "names(Invest) <- c(\"Firm_1\", \"Firm_2\", \"Firm_3\", \"Firm_4\", \"Firm_5\", \"Firm_6\", \"Firm_7\",\n",
                "                   \"Firm_8\", \"Firm_9\", \"Firm_10\")\n",
                "\n",
                "names(Invest)\n"
            ]
        },
        {
            "cell_type": "markdown",
            "metadata": {},
            "source": [
                "# Plot:\n",
                "\n"
            ]
        },
        {
            "cell_type": "code",
            "execution_count": null,
            "metadata": {},
            "outputs": [],
            "source": [
                "plot(Invest$Firm_1, type = \"l\", col = 1, ylim = c(0, 1500), lty = 1,\n",
                "     xlab = \"Tiempo\", ylab = \"Real gross investment\")\n",
                "lines(Invest$Firm_2, type = \"l\", col = 2, lty = 2)\n",
                "lines(Invest$Firm_3, type = \"l\", col = 3, lty = 1)\n",
                "lines(Invest$Firm_4, type = \"l\", col = 4, lty = 2)\n",
                "lines(Invest$Firm_5, type = \"l\", col = 5, lty = 1)\n",
                "lines(Invest$Firm_6, type = \"l\", col = 6, lty = 2)\n",
                "lines(Invest$Firm_7, type = \"l\", col = 7, lty = 1)\n",
                "lines(Invest$Firm_8, type = \"l\", col = 8, lty = 2)\n",
                "lines(Invest$Firm_9, type = \"l\", col = 9, lty = 1)\n",
                "lines(Invest$Firm_10, type = \"l\", col = 10, lty = 2)\n",
                "legend(\"topleft\", legend=c(\"Firm_1\", \"Firm_2\", \"Firm_3\", \"Firm_4\", \"Firm_5\",\n",
                "                           \"Firm_6\", \"Firm_7\", \"Firm_8\", \"Firm_9\", \"Firm_10\"),\n",
                "       col = c(1, 2, 3, 4, 5, 6, 7, 8, 9, 10), lty = 1:2)\n"
            ]
        },
        {
            "cell_type": "markdown",
            "metadata": {},
            "source": [
                "# Unit Root Test:\n",
                "\n",
                "Test specifies the type of test to be performed among Levin et al. (2002), Im et al. (2003), Maddala and Wu (1999) and Hadri (2000)\n",
                "\n",
                "## Consider Levin et al. (2002)\n"
            ]
        },
        {
            "cell_type": "code",
            "execution_count": null,
            "metadata": {},
            "outputs": [],
            "source": [
                "purtest(log(Invest), test = \"levinlin\", exo = \"intercept\", \n",
                "        lags = \"AIC\", pmax = 4)\n"
            ]
        },
        {
            "cell_type": "markdown",
            "metadata": {},
            "source": [
                "## Same via:\n",
                "\n"
            ]
        },
        {
            "cell_type": "code",
            "execution_count": null,
            "metadata": {},
            "outputs": [],
            "source": [
                "ts_LInvest <- ts(log(Invest), start = 1935, end = 1954, freq = 1)\n",
                "\n",
                "ts_DLInvest <- diff(ts(log(Invest), start = 1935, end = 1954, freq = 1), \n",
                "                     lag = 1, differences = 1)\n"
            ]
        },
        {
            "cell_type": "markdown",
            "metadata": {},
            "source": "\n"
        },
        {
            "cell_type": "code",
            "execution_count": null,
            "metadata": {},
            "outputs": [],
            "source": [
                "purtest(ts_LInvest, test = \"levinlin\", exo = \"intercept\", \n",
                "        lags = \"AIC\", pmax = 4)\n",
                "\n",
                "summary(purtest(ts_LInvest, test = \"levinlin\", exo = \"intercept\", \n",
                "        lags = \"AIC\", pmax = 4))\n"
            ]
        },
        {
            "cell_type": "markdown",
            "metadata": {},
            "source": "\n"
        },
        {
            "cell_type": "code",
            "execution_count": null,
            "metadata": {},
            "outputs": [],
            "source": [
                "purtest(ts_DLInvest, test = \"levinlin\", exo = \"intercept\", \n",
                "        lags = \"AIC\", pmax = 4)\n",
                "\n",
                "summary(purtest(ts_DLInvest, test = \"levinlin\", exo = \"intercept\", \n",
                "        lags = \"AIC\", pmax = 4))\n"
            ]
        },
        {
            "cell_type": "markdown",
            "metadata": {},
            "source": [
                "# Consider Im-Pesaran-Shin Unit-Root Test (2003)\n",
                "\n"
            ]
        },
        {
            "cell_type": "code",
            "execution_count": null,
            "metadata": {},
            "outputs": [],
            "source": [
                "purtest(ts_LInvest, test = \"ips\", exo = \"intercept\", \n",
                "        lags = \"AIC\", pmax = 4)\n",
                "\n",
                "summary(purtest(ts_LInvest, test = \"ips\", exo = \"intercept\", \n",
                "                lags = \"AIC\", pmax = 4))\n"
            ]
        },
        {
            "cell_type": "markdown",
            "metadata": {},
            "source": "\n"
        },
        {
            "cell_type": "code",
            "execution_count": null,
            "metadata": {},
            "outputs": [],
            "source": [
                "purtest(ts_DLInvest, test = \"ips\", exo = \"intercept\", \n",
                "        lags = \"AIC\", pmax = 4)\n",
                "\n",
                "summary(purtest(ts_DLInvest, test = \"ips\", exo = \"intercept\", \n",
                "                lags = \"AIC\", pmax = 4))\n"
            ]
        }
    ],
    "metadata": {
        "anaconda-cloud": "",
        "kernelspec": {
            "display_name": "R",
            "langauge": "R",
            "name": "ir"
        },
        "language_info": {
            "codemirror_mode": "r",
            "file_extension": ".r",
            "mimetype": "text/x-r-source",
            "name": "R",
            "pygments_lexer": "r",
            "version": "3.4.1"
        }
    },
    "nbformat": 4,
    "nbformat_minor": 1
}
